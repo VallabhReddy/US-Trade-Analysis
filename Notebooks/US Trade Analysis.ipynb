{
 "cells": [
  {
   "cell_type": "markdown",
   "metadata": {},
   "source": [
    "### US Trade Analysis\n",
    "##### Years Covered - 1998 - 2018"
   ]
  },
  {
   "cell_type": "code",
   "execution_count": 3,
   "metadata": {},
   "outputs": [],
   "source": [
    "###Code Header\n",
    "## Notebook Name: US Import/Exports Analysis 1998 - 2018\n",
    "## Version : 1\n",
    "## Description : An explorative analysis to learn how the US Imports/Exports have varied in the last 20 years\n",
    "## Data Sources: \n",
    "    # 1 : US Trade Data - from USA Trade online hosted by the US Department of Commerce - https://usatrade.census.gov\n",
    "    # 2 : USD CPI Data - from the Bureau of Labor Statistics website hosted by the United States Department of Labor\n",
    "## Author(s):\n",
    "## Edits :\n",
    "## Changes to be made\n",
    "## Future Analyses to include\n",
    "\n",
    "import pandas as pd"
   ]
  },
  {
   "cell_type": "code",
   "execution_count": 11,
   "metadata": {},
   "outputs": [],
   "source": [
    "#Importing the trade datasets from csv files. Skipping the first two rows which are meta data\n",
    "\n",
    "# The US Import/Export datasets have been taken from the the USA trade online website hosted by the US Department of Commerce - https://usatrade.census.gov\n",
    "exports98 = pd.read_csv(\"../data/US Trade Data/USA Exports - 1998 - 2008.csv\", skiprows = 2)\n",
    "exports09 = pd.read_csv(\"../data/US Trade Data/USA Exports - 2009 - 2018.csv\", skiprows = 2)\n",
    "imports98 = pd.read_csv(\"../data/US Trade Data/USA Imports - 1998 - 2008.csv\", skiprows = 2)\n",
    "imports09 = pd.read_csv(\"../data/US Trade Data/USA Imports - 2009 - 2018.csv\", skiprows = 2)\n",
    "\n"
   ]
  },
  {
   "cell_type": "code",
   "execution_count": 138,
   "metadata": {},
   "outputs": [],
   "source": [
    "# The Consumer Price Index is the collective price of a bucket of predecided category of goods like fuel, food, air fare, clothing etc, that together give us an idea of the value of money at the time\n",
    "# The CPI dataset has been taken from the Bureau of Labor Statistics website hosted by the United States Department of Labor - https://data.bls.gov\n",
    "\n",
    "USD_CPI_data = pd.read_excel(\"../data/Misc/USD CPI-U.xlsx\", skiprows = 11)"
   ]
  },
  {
   "cell_type": "code",
   "execution_count": 141,
   "metadata": {},
   "outputs": [],
   "source": [
    "# Importing the year to decade mappings, a dataset created manually\n",
    "\n",
    "year_to_decade = pd.read_excel(\"../data/Misc/Time Mapping.xlsx\")"
   ]
  },
  {
   "cell_type": "code",
   "execution_count": 142,
   "metadata": {},
   "outputs": [
    {
     "data": {
      "text/html": [
       "<div>\n",
       "<style scoped>\n",
       "    .dataframe tbody tr th:only-of-type {\n",
       "        vertical-align: middle;\n",
       "    }\n",
       "\n",
       "    .dataframe tbody tr th {\n",
       "        vertical-align: top;\n",
       "    }\n",
       "\n",
       "    .dataframe thead th {\n",
       "        text-align: right;\n",
       "    }\n",
       "</style>\n",
       "<table border=\"1\" class=\"dataframe\">\n",
       "  <thead>\n",
       "    <tr style=\"text-align: right;\">\n",
       "      <th></th>\n",
       "      <th>Year</th>\n",
       "      <th>Decade</th>\n",
       "    </tr>\n",
       "  </thead>\n",
       "  <tbody>\n",
       "    <tr>\n",
       "      <th>0</th>\n",
       "      <td>1990</td>\n",
       "      <td>1990s</td>\n",
       "    </tr>\n",
       "    <tr>\n",
       "      <th>1</th>\n",
       "      <td>1991</td>\n",
       "      <td>1990s</td>\n",
       "    </tr>\n",
       "    <tr>\n",
       "      <th>2</th>\n",
       "      <td>1992</td>\n",
       "      <td>1990s</td>\n",
       "    </tr>\n",
       "    <tr>\n",
       "      <th>3</th>\n",
       "      <td>1993</td>\n",
       "      <td>1990s</td>\n",
       "    </tr>\n",
       "    <tr>\n",
       "      <th>4</th>\n",
       "      <td>1994</td>\n",
       "      <td>1990s</td>\n",
       "    </tr>\n",
       "  </tbody>\n",
       "</table>\n",
       "</div>"
      ],
      "text/plain": [
       "   Year Decade\n",
       "0  1990  1990s\n",
       "1  1991  1990s\n",
       "2  1992  1990s\n",
       "3  1993  1990s\n",
       "4  1994  1990s"
      ]
     },
     "execution_count": 142,
     "metadata": {},
     "output_type": "execute_result"
    }
   ],
   "source": [
    "year_to_decade.head()"
   ]
  },
  {
   "cell_type": "code",
   "execution_count": 41,
   "metadata": {},
   "outputs": [
    {
     "data": {
      "text/html": [
       "<div>\n",
       "<style scoped>\n",
       "    .dataframe tbody tr th:only-of-type {\n",
       "        vertical-align: middle;\n",
       "    }\n",
       "\n",
       "    .dataframe tbody tr th {\n",
       "        vertical-align: top;\n",
       "    }\n",
       "\n",
       "    .dataframe thead th {\n",
       "        text-align: right;\n",
       "    }\n",
       "</style>\n",
       "<table border=\"1\" class=\"dataframe\">\n",
       "  <thead>\n",
       "    <tr style=\"text-align: right;\">\n",
       "      <th></th>\n",
       "      <th>Commodity</th>\n",
       "      <th>Country</th>\n",
       "      <th>Time</th>\n",
       "      <th>Export Value</th>\n",
       "    </tr>\n",
       "  </thead>\n",
       "  <tbody>\n",
       "    <tr>\n",
       "      <th>0</th>\n",
       "      <td>01 Live Animals</td>\n",
       "      <td>Angola</td>\n",
       "      <td>2002</td>\n",
       "      <td>36,638</td>\n",
       "    </tr>\n",
       "    <tr>\n",
       "      <th>1</th>\n",
       "      <td>01 Live Animals</td>\n",
       "      <td>Angola</td>\n",
       "      <td>2003</td>\n",
       "      <td>78,085</td>\n",
       "    </tr>\n",
       "    <tr>\n",
       "      <th>2</th>\n",
       "      <td>01 Live Animals</td>\n",
       "      <td>Angola</td>\n",
       "      <td>2005</td>\n",
       "      <td>11,578</td>\n",
       "    </tr>\n",
       "    <tr>\n",
       "      <th>3</th>\n",
       "      <td>01 Live Animals</td>\n",
       "      <td>Angola</td>\n",
       "      <td>2007</td>\n",
       "      <td>12,400</td>\n",
       "    </tr>\n",
       "    <tr>\n",
       "      <th>4</th>\n",
       "      <td>01 Live Animals</td>\n",
       "      <td>Benin</td>\n",
       "      <td>2005</td>\n",
       "      <td>6,720</td>\n",
       "    </tr>\n",
       "  </tbody>\n",
       "</table>\n",
       "</div>"
      ],
      "text/plain": [
       "         Commodity Country  Time Export Value\n",
       "0  01 Live Animals  Angola  2002       36,638\n",
       "1  01 Live Animals  Angola  2003       78,085\n",
       "2  01 Live Animals  Angola  2005       11,578\n",
       "3  01 Live Animals  Angola  2007       12,400\n",
       "4  01 Live Animals   Benin  2005        6,720"
      ]
     },
     "execution_count": 41,
     "metadata": {},
     "output_type": "execute_result"
    }
   ],
   "source": [
    "exports98.head()"
   ]
  },
  {
   "cell_type": "code",
   "execution_count": 21,
   "metadata": {},
   "outputs": [],
   "source": [
    "#Renaming the value columns to more intuitive titles\n",
    "exports09 = exports09.rename(columns = {'Value ($US)': 'Export Value'})\n",
    "exports98 = exports98.rename(columns = {'Value ($US)': 'Export Value'})\n",
    "imports09 = imports09.rename(columns = {'Customs Value (Gen) ($US)': 'Import Value'})\n",
    "imports98 = imports98.rename(columns = {'Customs Value (Gen) ($US)': 'Import Value'})"
   ]
  },
  {
   "cell_type": "code",
   "execution_count": 34,
   "metadata": {},
   "outputs": [],
   "source": [
    "#Defining a function to drop a certain column from a dataframe\n",
    "def col_dropper(df, col):\n",
    "    return df.drop(columns=col)\n",
    "\n",
    "#Removing the trash column from the trade datasets\n",
    "    \n",
    "imports98 = col_dropper(imports98,'Unnamed: 4')\n",
    "imports09 = col_dropper(imports09,'Unnamed: 4')\n",
    "exports98 = col_dropper(exports98,'Unnamed: 4')\n",
    "exports09 = col_dropper(exports09,'Unnamed: 4')"
   ]
  },
  {
   "cell_type": "code",
   "execution_count": 35,
   "metadata": {},
   "outputs": [
    {
     "data": {
      "text/html": [
       "<div>\n",
       "<style scoped>\n",
       "    .dataframe tbody tr th:only-of-type {\n",
       "        vertical-align: middle;\n",
       "    }\n",
       "\n",
       "    .dataframe tbody tr th {\n",
       "        vertical-align: top;\n",
       "    }\n",
       "\n",
       "    .dataframe thead th {\n",
       "        text-align: right;\n",
       "    }\n",
       "</style>\n",
       "<table border=\"1\" class=\"dataframe\">\n",
       "  <thead>\n",
       "    <tr style=\"text-align: right;\">\n",
       "      <th></th>\n",
       "      <th>Commodity</th>\n",
       "      <th>Country</th>\n",
       "      <th>Time</th>\n",
       "      <th>Export Value</th>\n",
       "    </tr>\n",
       "  </thead>\n",
       "  <tbody>\n",
       "    <tr>\n",
       "      <th>0</th>\n",
       "      <td>01 Live Animals</td>\n",
       "      <td>Angola</td>\n",
       "      <td>2002</td>\n",
       "      <td>36,638</td>\n",
       "    </tr>\n",
       "    <tr>\n",
       "      <th>1</th>\n",
       "      <td>01 Live Animals</td>\n",
       "      <td>Angola</td>\n",
       "      <td>2003</td>\n",
       "      <td>78,085</td>\n",
       "    </tr>\n",
       "    <tr>\n",
       "      <th>2</th>\n",
       "      <td>01 Live Animals</td>\n",
       "      <td>Angola</td>\n",
       "      <td>2005</td>\n",
       "      <td>11,578</td>\n",
       "    </tr>\n",
       "    <tr>\n",
       "      <th>3</th>\n",
       "      <td>01 Live Animals</td>\n",
       "      <td>Angola</td>\n",
       "      <td>2007</td>\n",
       "      <td>12,400</td>\n",
       "    </tr>\n",
       "    <tr>\n",
       "      <th>4</th>\n",
       "      <td>01 Live Animals</td>\n",
       "      <td>Benin</td>\n",
       "      <td>2005</td>\n",
       "      <td>6,720</td>\n",
       "    </tr>\n",
       "  </tbody>\n",
       "</table>\n",
       "</div>"
      ],
      "text/plain": [
       "         Commodity Country  Time Export Value\n",
       "0  01 Live Animals  Angola  2002       36,638\n",
       "1  01 Live Animals  Angola  2003       78,085\n",
       "2  01 Live Animals  Angola  2005       11,578\n",
       "3  01 Live Animals  Angola  2007       12,400\n",
       "4  01 Live Animals   Benin  2005        6,720"
      ]
     },
     "execution_count": 35,
     "metadata": {},
     "output_type": "execute_result"
    }
   ],
   "source": [
    "exports98.head()"
   ]
  },
  {
   "cell_type": "code",
   "execution_count": 51,
   "metadata": {},
   "outputs": [
    {
     "data": {
      "text/html": [
       "<div>\n",
       "<style scoped>\n",
       "    .dataframe tbody tr th:only-of-type {\n",
       "        vertical-align: middle;\n",
       "    }\n",
       "\n",
       "    .dataframe tbody tr th {\n",
       "        vertical-align: top;\n",
       "    }\n",
       "\n",
       "    .dataframe thead th {\n",
       "        text-align: right;\n",
       "    }\n",
       "</style>\n",
       "<table border=\"1\" class=\"dataframe\">\n",
       "  <thead>\n",
       "    <tr style=\"text-align: right;\">\n",
       "      <th></th>\n",
       "      <th>Year</th>\n",
       "      <th>Jan</th>\n",
       "      <th>Feb</th>\n",
       "      <th>Mar</th>\n",
       "      <th>Apr</th>\n",
       "      <th>May</th>\n",
       "      <th>Jun</th>\n",
       "      <th>Jul</th>\n",
       "      <th>Aug</th>\n",
       "      <th>Sep</th>\n",
       "      <th>Oct</th>\n",
       "      <th>Nov</th>\n",
       "      <th>Dec</th>\n",
       "      <th>Annual</th>\n",
       "      <th>HALF1</th>\n",
       "      <th>HALF2</th>\n",
       "    </tr>\n",
       "  </thead>\n",
       "  <tbody>\n",
       "    <tr>\n",
       "      <th>0</th>\n",
       "      <td>1990</td>\n",
       "      <td>127.4</td>\n",
       "      <td>128.0</td>\n",
       "      <td>128.7</td>\n",
       "      <td>128.9</td>\n",
       "      <td>129.2</td>\n",
       "      <td>129.9</td>\n",
       "      <td>130.4</td>\n",
       "      <td>131.6</td>\n",
       "      <td>132.7</td>\n",
       "      <td>133.5</td>\n",
       "      <td>133.8</td>\n",
       "      <td>133.8</td>\n",
       "      <td>130.7</td>\n",
       "      <td>128.7</td>\n",
       "      <td>132.6</td>\n",
       "    </tr>\n",
       "    <tr>\n",
       "      <th>1</th>\n",
       "      <td>1991</td>\n",
       "      <td>134.6</td>\n",
       "      <td>134.8</td>\n",
       "      <td>135.0</td>\n",
       "      <td>135.2</td>\n",
       "      <td>135.6</td>\n",
       "      <td>136.0</td>\n",
       "      <td>136.2</td>\n",
       "      <td>136.6</td>\n",
       "      <td>137.2</td>\n",
       "      <td>137.4</td>\n",
       "      <td>137.8</td>\n",
       "      <td>137.9</td>\n",
       "      <td>136.2</td>\n",
       "      <td>135.2</td>\n",
       "      <td>137.2</td>\n",
       "    </tr>\n",
       "    <tr>\n",
       "      <th>2</th>\n",
       "      <td>1992</td>\n",
       "      <td>138.1</td>\n",
       "      <td>138.6</td>\n",
       "      <td>139.3</td>\n",
       "      <td>139.5</td>\n",
       "      <td>139.7</td>\n",
       "      <td>140.2</td>\n",
       "      <td>140.5</td>\n",
       "      <td>140.9</td>\n",
       "      <td>141.3</td>\n",
       "      <td>141.8</td>\n",
       "      <td>142.0</td>\n",
       "      <td>141.9</td>\n",
       "      <td>140.3</td>\n",
       "      <td>139.2</td>\n",
       "      <td>141.4</td>\n",
       "    </tr>\n",
       "    <tr>\n",
       "      <th>3</th>\n",
       "      <td>1993</td>\n",
       "      <td>142.6</td>\n",
       "      <td>143.1</td>\n",
       "      <td>143.6</td>\n",
       "      <td>144.0</td>\n",
       "      <td>144.2</td>\n",
       "      <td>144.4</td>\n",
       "      <td>144.4</td>\n",
       "      <td>144.8</td>\n",
       "      <td>145.1</td>\n",
       "      <td>145.7</td>\n",
       "      <td>145.8</td>\n",
       "      <td>145.8</td>\n",
       "      <td>144.5</td>\n",
       "      <td>143.7</td>\n",
       "      <td>145.3</td>\n",
       "    </tr>\n",
       "    <tr>\n",
       "      <th>4</th>\n",
       "      <td>1994</td>\n",
       "      <td>146.2</td>\n",
       "      <td>146.7</td>\n",
       "      <td>147.2</td>\n",
       "      <td>147.4</td>\n",
       "      <td>147.5</td>\n",
       "      <td>148.0</td>\n",
       "      <td>148.4</td>\n",
       "      <td>149.0</td>\n",
       "      <td>149.4</td>\n",
       "      <td>149.5</td>\n",
       "      <td>149.7</td>\n",
       "      <td>149.7</td>\n",
       "      <td>148.2</td>\n",
       "      <td>147.2</td>\n",
       "      <td>149.3</td>\n",
       "    </tr>\n",
       "  </tbody>\n",
       "</table>\n",
       "</div>"
      ],
      "text/plain": [
       "   Year    Jan    Feb    Mar    Apr    May    Jun    Jul    Aug    Sep    Oct  \\\n",
       "0  1990  127.4  128.0  128.7  128.9  129.2  129.9  130.4  131.6  132.7  133.5   \n",
       "1  1991  134.6  134.8  135.0  135.2  135.6  136.0  136.2  136.6  137.2  137.4   \n",
       "2  1992  138.1  138.6  139.3  139.5  139.7  140.2  140.5  140.9  141.3  141.8   \n",
       "3  1993  142.6  143.1  143.6  144.0  144.2  144.4  144.4  144.8  145.1  145.7   \n",
       "4  1994  146.2  146.7  147.2  147.4  147.5  148.0  148.4  149.0  149.4  149.5   \n",
       "\n",
       "     Nov    Dec  Annual  HALF1  HALF2  \n",
       "0  133.8  133.8   130.7  128.7  132.6  \n",
       "1  137.8  137.9   136.2  135.2  137.2  \n",
       "2  142.0  141.9   140.3  139.2  141.4  \n",
       "3  145.8  145.8   144.5  143.7  145.3  \n",
       "4  149.7  149.7   148.2  147.2  149.3  "
      ]
     },
     "execution_count": 51,
     "metadata": {},
     "output_type": "execute_result"
    }
   ],
   "source": [
    "USD_CPI_data.head()"
   ]
  },
  {
   "cell_type": "code",
   "execution_count": 139,
   "metadata": {},
   "outputs": [
    {
     "data": {
      "text/html": [
       "<div>\n",
       "<style scoped>\n",
       "    .dataframe tbody tr th:only-of-type {\n",
       "        vertical-align: middle;\n",
       "    }\n",
       "\n",
       "    .dataframe tbody tr th {\n",
       "        vertical-align: top;\n",
       "    }\n",
       "\n",
       "    .dataframe thead th {\n",
       "        text-align: right;\n",
       "    }\n",
       "</style>\n",
       "<table border=\"1\" class=\"dataframe\">\n",
       "  <thead>\n",
       "    <tr style=\"text-align: right;\">\n",
       "      <th></th>\n",
       "      <th>Year</th>\n",
       "      <th>Period</th>\n",
       "      <th>CPI</th>\n",
       "    </tr>\n",
       "  </thead>\n",
       "  <tbody>\n",
       "    <tr>\n",
       "      <th>0</th>\n",
       "      <td>1990</td>\n",
       "      <td>Jan</td>\n",
       "      <td>127.4</td>\n",
       "    </tr>\n",
       "    <tr>\n",
       "      <th>1</th>\n",
       "      <td>1991</td>\n",
       "      <td>Jan</td>\n",
       "      <td>134.6</td>\n",
       "    </tr>\n",
       "    <tr>\n",
       "      <th>2</th>\n",
       "      <td>1992</td>\n",
       "      <td>Jan</td>\n",
       "      <td>138.1</td>\n",
       "    </tr>\n",
       "    <tr>\n",
       "      <th>3</th>\n",
       "      <td>1993</td>\n",
       "      <td>Jan</td>\n",
       "      <td>142.6</td>\n",
       "    </tr>\n",
       "    <tr>\n",
       "      <th>4</th>\n",
       "      <td>1994</td>\n",
       "      <td>Jan</td>\n",
       "      <td>146.2</td>\n",
       "    </tr>\n",
       "  </tbody>\n",
       "</table>\n",
       "</div>"
      ],
      "text/plain": [
       "   Year Period    CPI\n",
       "0  1990    Jan  127.4\n",
       "1  1991    Jan  134.6\n",
       "2  1992    Jan  138.1\n",
       "3  1993    Jan  142.6\n",
       "4  1994    Jan  146.2"
      ]
     },
     "execution_count": 139,
     "metadata": {},
     "output_type": "execute_result"
    }
   ],
   "source": [
    "# Melting the CPI data and unpivoting the CPI values\n",
    "USD_CPI_data = USD_CPI_data.melt(id_vars = 'Year', var_name = 'Period', value_name= 'CPI')\n",
    "USD_CPI_data.head()"
   ]
  },
  {
   "cell_type": "code",
   "execution_count": 140,
   "metadata": {},
   "outputs": [],
   "source": [
    "# Taking only the annual average CPI value\n",
    "USD_CPI_data = USD_CPI_data.loc[USD_CPI_data['Period'] == 'Annual']"
   ]
  },
  {
   "cell_type": "code",
   "execution_count": 66,
   "metadata": {},
   "outputs": [],
   "source": [
    "# Appending the trade datasets together\n",
    "exports_data = exports09.append(exports98, ignore_index = True)\n",
    "imports_data = imports09.append(imports98, ignore_index = True)"
   ]
  },
  {
   "cell_type": "code",
   "execution_count": 70,
   "metadata": {},
   "outputs": [],
   "source": [
    " # Joining CPI values to exports\n",
    "exports_data = pd.merge(exports_data, USD_CPI_data.drop(columns = 'Period'), left_on = 'Time', right_on = 'Year', how = 'inner').drop(columns = 'Time')\n",
    "imports_data = pd.merge(imports_data, USD_CPI_data.drop(columns = 'Period'), left_on = 'Time', right_on = 'Year', how = 'inner').drop(columns = 'Time')\n"
   ]
  },
  {
   "cell_type": "code",
   "execution_count": 123,
   "metadata": {},
   "outputs": [
    {
     "data": {
      "text/html": [
       "<div>\n",
       "<style scoped>\n",
       "    .dataframe tbody tr th:only-of-type {\n",
       "        vertical-align: middle;\n",
       "    }\n",
       "\n",
       "    .dataframe tbody tr th {\n",
       "        vertical-align: top;\n",
       "    }\n",
       "\n",
       "    .dataframe thead th {\n",
       "        text-align: right;\n",
       "    }\n",
       "</style>\n",
       "<table border=\"1\" class=\"dataframe\">\n",
       "  <thead>\n",
       "    <tr style=\"text-align: right;\">\n",
       "      <th></th>\n",
       "      <th>Commodity</th>\n",
       "      <th>Country</th>\n",
       "      <th>Export Value</th>\n",
       "      <th>Year</th>\n",
       "      <th>CPI</th>\n",
       "    </tr>\n",
       "  </thead>\n",
       "  <tbody>\n",
       "    <tr>\n",
       "      <th>0</th>\n",
       "      <td>01 Live Animals</td>\n",
       "      <td>Algeria</td>\n",
       "      <td>52,789</td>\n",
       "      <td>2010</td>\n",
       "      <td>218.056</td>\n",
       "    </tr>\n",
       "    <tr>\n",
       "      <th>1</th>\n",
       "      <td>01 Live Animals</td>\n",
       "      <td>Congo (Brazzaville)</td>\n",
       "      <td>6,857</td>\n",
       "      <td>2010</td>\n",
       "      <td>218.056</td>\n",
       "    </tr>\n",
       "    <tr>\n",
       "      <th>2</th>\n",
       "      <td>01 Live Animals</td>\n",
       "      <td>Egypt</td>\n",
       "      <td>3,995,663</td>\n",
       "      <td>2010</td>\n",
       "      <td>218.056</td>\n",
       "    </tr>\n",
       "    <tr>\n",
       "      <th>3</th>\n",
       "      <td>01 Live Animals</td>\n",
       "      <td>Gabon</td>\n",
       "      <td>65,000</td>\n",
       "      <td>2010</td>\n",
       "      <td>218.056</td>\n",
       "    </tr>\n",
       "    <tr>\n",
       "      <th>4</th>\n",
       "      <td>01 Live Animals</td>\n",
       "      <td>Ghana</td>\n",
       "      <td>1,266,199</td>\n",
       "      <td>2010</td>\n",
       "      <td>218.056</td>\n",
       "    </tr>\n",
       "  </tbody>\n",
       "</table>\n",
       "</div>"
      ],
      "text/plain": [
       "         Commodity              Country Export Value  Year      CPI\n",
       "0  01 Live Animals              Algeria       52,789  2010  218.056\n",
       "1  01 Live Animals  Congo (Brazzaville)        6,857  2010  218.056\n",
       "2  01 Live Animals                Egypt    3,995,663  2010  218.056\n",
       "3  01 Live Animals                Gabon       65,000  2010  218.056\n",
       "4  01 Live Animals                Ghana    1,266,199  2010  218.056"
      ]
     },
     "execution_count": 123,
     "metadata": {},
     "output_type": "execute_result"
    }
   ],
   "source": [
    "exports_data.head()"
   ]
  },
  {
   "cell_type": "code",
   "execution_count": 78,
   "metadata": {},
   "outputs": [],
   "source": [
    "#checking to see whether the sets of countries and commodities from imports and exports are different\n",
    "import_countries = set(imports_data.Country)\n",
    "export_countries = set(exports_data.Country)\n",
    "import_commodities = set(imports_data.Commodity)\n",
    "export_commodities = set(exports_data.Commodity)\n"
   ]
  },
  {
   "cell_type": "code",
   "execution_count": 91,
   "metadata": {},
   "outputs": [
    {
     "data": {
      "text/plain": [
       "set()"
      ]
     },
     "execution_count": 91,
     "metadata": {},
     "output_type": "execute_result"
    }
   ],
   "source": [
    "export_countries.difference(import_countries)"
   ]
  },
  {
   "cell_type": "code",
   "execution_count": 87,
   "metadata": {},
   "outputs": [
    {
     "data": {
      "text/plain": [
       "set()"
      ]
     },
     "execution_count": 87,
     "metadata": {},
     "output_type": "execute_result"
    }
   ],
   "source": [
    "\n",
    "import_countries.difference(export_countries)\n",
    "\n"
   ]
  },
  {
   "cell_type": "markdown",
   "metadata": {},
   "source": [
    "##### Possible Learning : Trade is bilateral with every country overall... But may vary each year, since this set is from 20 years of trade. For a more accurate analysis, check whether the country exists in both sets for every year."
   ]
  },
  {
   "cell_type": "code",
   "execution_count": 92,
   "metadata": {},
   "outputs": [
    {
     "data": {
      "text/plain": [
       "set()"
      ]
     },
     "execution_count": 92,
     "metadata": {},
     "output_type": "execute_result"
    }
   ],
   "source": [
    "export_commodities.difference(import_commodities)"
   ]
  },
  {
   "cell_type": "code",
   "execution_count": 88,
   "metadata": {},
   "outputs": [
    {
     "data": {
      "text/plain": [
       "{'99 Special Import Provisions, Nesoi'}"
      ]
     },
     "execution_count": 88,
     "metadata": {},
     "output_type": "execute_result"
    }
   ],
   "source": [
    "\n",
    "import_commodities.difference(export_commodities)\n"
   ]
  },
  {
   "cell_type": "markdown",
   "metadata": {},
   "source": [
    "##### Seems like the categorization of goods for import and export are the same; i.e. there is only one category which is imported but not exported. Learnings may vary if check by each year."
   ]
  },
  {
   "cell_type": "code",
   "execution_count": 133,
   "metadata": {},
   "outputs": [],
   "source": [
    "# Concating year to country and commodity to check whether these comparisons will vary when checking by the year\n",
    "\n",
    "def stringItCountry(row):\n",
    "    return row.Country + ' ' + str(row.Year)\n",
    "\n",
    "import_countries_yearly = set(imports_data.apply( stringItCountry,axis = 1))\n",
    "export_countries_yearly = set(exports_data.apply( stringItCountry,axis = 1))\n",
    "\n",
    "def stringItCommodity(row):\n",
    "    return row.Commodity + ' ' + str(row.Year)\n",
    "\n",
    "\n",
    "import_commodities_yearly = set(imports_data.apply( stringItCommodity,axis = 1))\n",
    "export_commodities_yearly = set(exports_data.apply( stringItCommodity,axis = 1))"
   ]
  },
  {
   "cell_type": "code",
   "execution_count": 134,
   "metadata": {},
   "outputs": [
    {
     "data": {
      "text/plain": [
       "{'Pitcairn Islands 1998',\n",
       " 'Pitcairn Islands 2008',\n",
       " 'Pitcairn Islands 2013',\n",
       " 'Wallis and Futuna 2001',\n",
       " 'Western Sahara 2002'}"
      ]
     },
     "execution_count": 134,
     "metadata": {},
     "output_type": "execute_result"
    }
   ],
   "source": [
    "import_countries_yearly.difference(export_countries_yearly)"
   ]
  },
  {
   "cell_type": "markdown",
   "metadata": {},
   "source": [
    "##### There are a few countries we import from but do not export any goods to in a particular year."
   ]
  },
  {
   "cell_type": "code",
   "execution_count": 135,
   "metadata": {},
   "outputs": [
    {
     "data": {
      "text/plain": [
       "{'Burma 2004',\n",
       " 'Burma 2007',\n",
       " 'Burma 2008',\n",
       " 'Burma 2010',\n",
       " 'Burma 2011',\n",
       " 'Cuba 1998',\n",
       " 'Cuba 2013',\n",
       " 'Cuba 2014',\n",
       " 'Cuba 2015',\n",
       " 'Cuba 2016',\n",
       " 'Cuba 2017',\n",
       " 'French Southern and Antarctic Lands 1999',\n",
       " 'Heard and McDonald Islands 1999',\n",
       " 'Heard and McDonald Islands 2002',\n",
       " 'Heard and McDonald Islands 2009',\n",
       " 'Iran 2014',\n",
       " 'Korea, North 1998',\n",
       " 'Korea, North 2003',\n",
       " 'Korea, North 2007',\n",
       " 'Korea, North 2008',\n",
       " 'Korea, North 2009',\n",
       " 'Korea, North 2011',\n",
       " 'Korea, North 2012',\n",
       " 'Korea, North 2013',\n",
       " 'Korea, North 2014',\n",
       " 'Korea, North 2015',\n",
       " 'Korea, North 2016',\n",
       " 'Korea, North 2017',\n",
       " 'Korea, North 2018',\n",
       " 'Libya 2000',\n",
       " 'Libya 2001',\n",
       " 'Libya 2002',\n",
       " 'Libya 2003',\n",
       " 'Mayotte 2004',\n",
       " 'Svalbard, Jan Mayen Island 2003',\n",
       " 'Svalbard, Jan Mayen Island 2009',\n",
       " 'Timor-Leste 2000',\n",
       " 'Timor-Leste 2010',\n",
       " 'Tuvalu 2002',\n",
       " 'Wallis and Futuna 1998',\n",
       " 'Wallis and Futuna 2000',\n",
       " 'Wallis and Futuna 2002',\n",
       " 'Western Sahara 2000',\n",
       " 'Western Sahara 2001',\n",
       " 'Western Sahara 2004',\n",
       " 'Western Sahara 2005',\n",
       " 'Western Sahara 2006',\n",
       " 'Western Sahara 2009'}"
      ]
     },
     "execution_count": 135,
     "metadata": {},
     "output_type": "execute_result"
    }
   ],
   "source": [
    "export_countries_yearly.difference(import_countries_yearly)\n"
   ]
  },
  {
   "cell_type": "markdown",
   "metadata": {},
   "source": [
    "##### There are several countries that we export to, but do not import any goods from in a particular year. This number is higher than the export exclusions."
   ]
  },
  {
   "cell_type": "code",
   "execution_count": 136,
   "metadata": {},
   "outputs": [
    {
     "data": {
      "text/plain": [
       "{'99 Special Import Provisions, Nesoi 1998',\n",
       " '99 Special Import Provisions, Nesoi 1999',\n",
       " '99 Special Import Provisions, Nesoi 2000',\n",
       " '99 Special Import Provisions, Nesoi 2001',\n",
       " '99 Special Import Provisions, Nesoi 2002',\n",
       " '99 Special Import Provisions, Nesoi 2003',\n",
       " '99 Special Import Provisions, Nesoi 2004',\n",
       " '99 Special Import Provisions, Nesoi 2005',\n",
       " '99 Special Import Provisions, Nesoi 2006',\n",
       " '99 Special Import Provisions, Nesoi 2007',\n",
       " '99 Special Import Provisions, Nesoi 2008',\n",
       " '99 Special Import Provisions, Nesoi 2009',\n",
       " '99 Special Import Provisions, Nesoi 2010',\n",
       " '99 Special Import Provisions, Nesoi 2011',\n",
       " '99 Special Import Provisions, Nesoi 2012',\n",
       " '99 Special Import Provisions, Nesoi 2013',\n",
       " '99 Special Import Provisions, Nesoi 2014',\n",
       " '99 Special Import Provisions, Nesoi 2015',\n",
       " '99 Special Import Provisions, Nesoi 2016',\n",
       " '99 Special Import Provisions, Nesoi 2017',\n",
       " '99 Special Import Provisions, Nesoi 2018'}"
      ]
     },
     "execution_count": 136,
     "metadata": {},
     "output_type": "execute_result"
    }
   ],
   "source": [
    "import_commodities_yearly.difference(export_commodities_yearly)"
   ]
  },
  {
   "cell_type": "code",
   "execution_count": 137,
   "metadata": {},
   "outputs": [
    {
     "data": {
      "text/plain": [
       "set()"
      ]
     },
     "execution_count": 137,
     "metadata": {},
     "output_type": "execute_result"
    }
   ],
   "source": [
    "export_commodities_yearly.difference(import_commodities_yearly)"
   ]
  },
  {
   "cell_type": "markdown",
   "metadata": {},
   "source": [
    "##### All categories of goods except one are both imported and exported every year"
   ]
  },
  {
   "cell_type": "code",
   "execution_count": 150,
   "metadata": {},
   "outputs": [],
   "source": [
    "# Joining with the decade mapping to extract decade for each year\n",
    "exports_data = pd.merge(exports_data, year_to_decade, left_on = 'Year', right_on = 'Year', how = 'inner')\n",
    "imports_data = pd.merge(imports_data, year_to_decade, left_on = 'Year', right_on = 'Year', how = 'inner')"
   ]
  },
  {
   "cell_type": "code",
   "execution_count": 167,
   "metadata": {},
   "outputs": [],
   "source": [
    "# Modifying the commodities columns to remove the prefixed number   ; i.e. '01 Live Animals' to 'Live Animals'\n",
    "def commodityClean(row):\n",
    "    return ' '.join(row.Commodity.split(' ')[1:])\n",
    "\n",
    "exports_data['Commodity'] = exports_data.apply(commodityClean, axis = 1)\n",
    "imports_data['Commodity'] = imports_data.apply(commodityClean, axis = 1)"
   ]
  },
  {
   "cell_type": "code",
   "execution_count": 168,
   "metadata": {},
   "outputs": [
    {
     "data": {
      "text/html": [
       "<div>\n",
       "<style scoped>\n",
       "    .dataframe tbody tr th:only-of-type {\n",
       "        vertical-align: middle;\n",
       "    }\n",
       "\n",
       "    .dataframe tbody tr th {\n",
       "        vertical-align: top;\n",
       "    }\n",
       "\n",
       "    .dataframe thead th {\n",
       "        text-align: right;\n",
       "    }\n",
       "</style>\n",
       "<table border=\"1\" class=\"dataframe\">\n",
       "  <thead>\n",
       "    <tr style=\"text-align: right;\">\n",
       "      <th></th>\n",
       "      <th>Commodity</th>\n",
       "      <th>Country</th>\n",
       "      <th>Export Value</th>\n",
       "      <th>Year</th>\n",
       "      <th>CPI</th>\n",
       "      <th>Decade</th>\n",
       "    </tr>\n",
       "  </thead>\n",
       "  <tbody>\n",
       "    <tr>\n",
       "      <th>0</th>\n",
       "      <td>Live Animals</td>\n",
       "      <td>Algeria</td>\n",
       "      <td>52,789</td>\n",
       "      <td>2010</td>\n",
       "      <td>218.056</td>\n",
       "      <td>2010s</td>\n",
       "    </tr>\n",
       "    <tr>\n",
       "      <th>1</th>\n",
       "      <td>Live Animals</td>\n",
       "      <td>Congo (Brazzaville)</td>\n",
       "      <td>6,857</td>\n",
       "      <td>2010</td>\n",
       "      <td>218.056</td>\n",
       "      <td>2010s</td>\n",
       "    </tr>\n",
       "    <tr>\n",
       "      <th>2</th>\n",
       "      <td>Live Animals</td>\n",
       "      <td>Egypt</td>\n",
       "      <td>3,995,663</td>\n",
       "      <td>2010</td>\n",
       "      <td>218.056</td>\n",
       "      <td>2010s</td>\n",
       "    </tr>\n",
       "    <tr>\n",
       "      <th>3</th>\n",
       "      <td>Live Animals</td>\n",
       "      <td>Gabon</td>\n",
       "      <td>65,000</td>\n",
       "      <td>2010</td>\n",
       "      <td>218.056</td>\n",
       "      <td>2010s</td>\n",
       "    </tr>\n",
       "    <tr>\n",
       "      <th>4</th>\n",
       "      <td>Live Animals</td>\n",
       "      <td>Ghana</td>\n",
       "      <td>1,266,199</td>\n",
       "      <td>2010</td>\n",
       "      <td>218.056</td>\n",
       "      <td>2010s</td>\n",
       "    </tr>\n",
       "  </tbody>\n",
       "</table>\n",
       "</div>"
      ],
      "text/plain": [
       "      Commodity              Country Export Value  Year      CPI Decade\n",
       "0  Live Animals              Algeria       52,789  2010  218.056  2010s\n",
       "1  Live Animals  Congo (Brazzaville)        6,857  2010  218.056  2010s\n",
       "2  Live Animals                Egypt    3,995,663  2010  218.056  2010s\n",
       "3  Live Animals                Gabon       65,000  2010  218.056  2010s\n",
       "4  Live Animals                Ghana    1,266,199  2010  218.056  2010s"
      ]
     },
     "execution_count": 168,
     "metadata": {},
     "output_type": "execute_result"
    }
   ],
   "source": [
    "exports_data.head()"
   ]
  },
  {
   "cell_type": "code",
   "execution_count": null,
   "metadata": {},
   "outputs": [],
   "source": []
  }
 ],
 "metadata": {
  "kernelspec": {
   "display_name": "Python 3",
   "language": "python",
   "name": "python3"
  },
  "language_info": {
   "codemirror_mode": {
    "name": "ipython",
    "version": 3
   },
   "file_extension": ".py",
   "mimetype": "text/x-python",
   "name": "python",
   "nbconvert_exporter": "python",
   "pygments_lexer": "ipython3",
   "version": "3.7.3"
  }
 },
 "nbformat": 4,
 "nbformat_minor": 2
}
