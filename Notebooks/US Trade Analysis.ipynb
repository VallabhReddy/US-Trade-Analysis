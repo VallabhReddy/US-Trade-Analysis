{
 "cells": [
  {
   "cell_type": "markdown",
   "metadata": {},
   "source": [
    "### US Trade Analysis\n",
    "##### Years Covered - 1998 - 2018"
   ]
  },
  {
   "cell_type": "code",
   "execution_count": 62,
   "metadata": {},
   "outputs": [],
   "source": [
    "### Code Header\n",
    "## Notebook Name: US Import/Exports Analysis 1998 - 2018\n",
    "## Version : 1\n",
    "## Creation Date : 09/27/2019\n",
    "## Description : An explorative analysis to learn how the US Imports/Exports have varied in the last 20 years\n",
    "## Data Sources: \n",
    "    # 1 : US Trade Data - from USA Trade online hosted by the US Department of Commerce - https://usatrade.census.gov\n",
    "    # 2 : USD CPI Data - from the Bureau of Labor Statistics website hosted by the United States Department of Labor\n",
    "## Author(s): Vallabh Reddy\n",
    "## Edits :\n",
    "## Changes to be made :\n",
    "## Future Analyses to include : \n",
    "    # 1. District level analysis to learn the exports and imports of the different regions of the US\n",
    "## Author Comments :\n",
    "    # 1. This analysis started out as a course project submission, which required certain steps to be included in order to be marked.\n",
    "        # which is why you might notice one or two redundant steps included like the external file for the mapping of year to decade.\n",
    "        \n",
    "\n",
    "import pandas as pd\n",
    "import matplotlib.pyplot as plt\n",
    "%matplotlib inline\n",
    "import seaborn as sns\n",
    "import numpy as np"
   ]
  },
  {
   "cell_type": "code",
   "execution_count": 63,
   "metadata": {},
   "outputs": [],
   "source": [
    "#Importing the trade datasets from csv files. Skipping the first two rows which are meta data\n",
    "\n",
    "# The US Import/Export datasets have been taken from the the USA trade online website hosted by the US Department of Commerce - https://usatrade.census.gov\n",
    "exports98 = pd.read_csv(\"../data/US Trade Data/USA Exports - 1998 - 2008.csv\", skiprows = 2, dtype = {'Value ($US)':float})\n",
    "exports09 = pd.read_csv(\"../data/US Trade Data/USA Exports - 2009 - 2018.csv\", skiprows = 2, dtype = {'Value ($US)':float})\n",
    "imports98 = pd.read_csv(\"../data/US Trade Data/USA Imports - 1998 - 2008.csv\", skiprows = 2, dtype = {'Customs Value (Gen) ($US)':float})\n",
    "imports09 = pd.read_csv(\"../data/US Trade Data/USA Imports - 2009 - 2018.csv\", skiprows = 2, dtype = {'Customs Value (Gen) ($US)':float})\n",
    "\n"
   ]
  },
  {
   "cell_type": "code",
   "execution_count": 64,
   "metadata": {},
   "outputs": [],
   "source": [
    "# The Consumer Price Index is the collective price of a bucket of predecided category of goods like fuel, food, air fare, clothing etc, that together give us an idea of the value of money at the time\n",
    "# The CPI dataset has been taken from the Bureau of Labor Statistics website hosted by the United States Department of Labor - https://data.bls.gov\n",
    "\n",
    "USD_CPI_data = pd.read_excel(\"../data/Misc/USD CPI-U.xlsx\", skiprows = 11)"
   ]
  },
  {
   "cell_type": "code",
   "execution_count": 65,
   "metadata": {},
   "outputs": [],
   "source": [
    "# Importing the year to decade mappings, a dataset created manually\n",
    "\n",
    "year_to_decade = pd.read_excel(\"../data/Misc/Time Mapping.xlsx\")"
   ]
  },
  {
   "cell_type": "code",
   "execution_count": 66,
   "metadata": {},
   "outputs": [
    {
     "data": {
      "text/html": [
       "<div>\n",
       "<style scoped>\n",
       "    .dataframe tbody tr th:only-of-type {\n",
       "        vertical-align: middle;\n",
       "    }\n",
       "\n",
       "    .dataframe tbody tr th {\n",
       "        vertical-align: top;\n",
       "    }\n",
       "\n",
       "    .dataframe thead th {\n",
       "        text-align: right;\n",
       "    }\n",
       "</style>\n",
       "<table border=\"1\" class=\"dataframe\">\n",
       "  <thead>\n",
       "    <tr style=\"text-align: right;\">\n",
       "      <th></th>\n",
       "      <th>Year</th>\n",
       "      <th>Decade</th>\n",
       "    </tr>\n",
       "  </thead>\n",
       "  <tbody>\n",
       "    <tr>\n",
       "      <th>0</th>\n",
       "      <td>1990</td>\n",
       "      <td>1990s</td>\n",
       "    </tr>\n",
       "    <tr>\n",
       "      <th>1</th>\n",
       "      <td>1991</td>\n",
       "      <td>1990s</td>\n",
       "    </tr>\n",
       "    <tr>\n",
       "      <th>2</th>\n",
       "      <td>1992</td>\n",
       "      <td>1990s</td>\n",
       "    </tr>\n",
       "    <tr>\n",
       "      <th>3</th>\n",
       "      <td>1993</td>\n",
       "      <td>1990s</td>\n",
       "    </tr>\n",
       "    <tr>\n",
       "      <th>4</th>\n",
       "      <td>1994</td>\n",
       "      <td>1990s</td>\n",
       "    </tr>\n",
       "  </tbody>\n",
       "</table>\n",
       "</div>"
      ],
      "text/plain": [
       "   Year Decade\n",
       "0  1990  1990s\n",
       "1  1991  1990s\n",
       "2  1992  1990s\n",
       "3  1993  1990s\n",
       "4  1994  1990s"
      ]
     },
     "execution_count": 66,
     "metadata": {},
     "output_type": "execute_result"
    }
   ],
   "source": [
    "year_to_decade.head()"
   ]
  },
  {
   "cell_type": "code",
   "execution_count": 8,
   "metadata": {},
   "outputs": [
    {
     "data": {
      "text/html": [
       "<div>\n",
       "<style scoped>\n",
       "    .dataframe tbody tr th:only-of-type {\n",
       "        vertical-align: middle;\n",
       "    }\n",
       "\n",
       "    .dataframe tbody tr th {\n",
       "        vertical-align: top;\n",
       "    }\n",
       "\n",
       "    .dataframe thead th {\n",
       "        text-align: right;\n",
       "    }\n",
       "</style>\n",
       "<table border=\"1\" class=\"dataframe\">\n",
       "  <thead>\n",
       "    <tr style=\"text-align: right;\">\n",
       "      <th></th>\n",
       "      <th>Commodity</th>\n",
       "      <th>Country</th>\n",
       "      <th>Time</th>\n",
       "      <th>Value ($US)</th>\n",
       "    </tr>\n",
       "  </thead>\n",
       "  <tbody>\n",
       "    <tr>\n",
       "      <th>0</th>\n",
       "      <td>01 Live Animals</td>\n",
       "      <td>Angola</td>\n",
       "      <td>2002</td>\n",
       "      <td>36638.0</td>\n",
       "    </tr>\n",
       "    <tr>\n",
       "      <th>1</th>\n",
       "      <td>01 Live Animals</td>\n",
       "      <td>Angola</td>\n",
       "      <td>2003</td>\n",
       "      <td>78085.0</td>\n",
       "    </tr>\n",
       "    <tr>\n",
       "      <th>2</th>\n",
       "      <td>01 Live Animals</td>\n",
       "      <td>Angola</td>\n",
       "      <td>2005</td>\n",
       "      <td>11578.0</td>\n",
       "    </tr>\n",
       "    <tr>\n",
       "      <th>3</th>\n",
       "      <td>01 Live Animals</td>\n",
       "      <td>Angola</td>\n",
       "      <td>2007</td>\n",
       "      <td>12400.0</td>\n",
       "    </tr>\n",
       "    <tr>\n",
       "      <th>4</th>\n",
       "      <td>01 Live Animals</td>\n",
       "      <td>Benin</td>\n",
       "      <td>2005</td>\n",
       "      <td>6720.0</td>\n",
       "    </tr>\n",
       "  </tbody>\n",
       "</table>\n",
       "</div>"
      ],
      "text/plain": [
       "         Commodity Country  Time  Value ($US)\n",
       "0  01 Live Animals  Angola  2002      36638.0\n",
       "1  01 Live Animals  Angola  2003      78085.0\n",
       "2  01 Live Animals  Angola  2005      11578.0\n",
       "3  01 Live Animals  Angola  2007      12400.0\n",
       "4  01 Live Animals   Benin  2005       6720.0"
      ]
     },
     "execution_count": 8,
     "metadata": {},
     "output_type": "execute_result"
    }
   ],
   "source": [
    "exports98.head()"
   ]
  },
  {
   "cell_type": "code",
   "execution_count": 9,
   "metadata": {},
   "outputs": [],
   "source": [
    "#Renaming the value columns to more intuitive titles\n",
    "exports09 = exports09.rename(columns = {'Value ($US)': 'Export Value'})\n",
    "exports98 = exports98.rename(columns = {'Value ($US)': 'Export Value'})\n",
    "imports09 = imports09.rename(columns = {'Customs Value (Gen) ($US)': 'Import Value'})\n",
    "imports98 = imports98.rename(columns = {'Customs Value (Gen) ($US)': 'Import Value'})"
   ]
  },
  {
   "cell_type": "code",
   "execution_count": 10,
   "metadata": {},
   "outputs": [
    {
     "data": {
      "text/html": [
       "<div>\n",
       "<style scoped>\n",
       "    .dataframe tbody tr th:only-of-type {\n",
       "        vertical-align: middle;\n",
       "    }\n",
       "\n",
       "    .dataframe tbody tr th {\n",
       "        vertical-align: top;\n",
       "    }\n",
       "\n",
       "    .dataframe thead th {\n",
       "        text-align: right;\n",
       "    }\n",
       "</style>\n",
       "<table border=\"1\" class=\"dataframe\">\n",
       "  <thead>\n",
       "    <tr style=\"text-align: right;\">\n",
       "      <th></th>\n",
       "      <th>Commodity</th>\n",
       "      <th>Country</th>\n",
       "      <th>Time</th>\n",
       "      <th>Export Value</th>\n",
       "    </tr>\n",
       "  </thead>\n",
       "  <tbody>\n",
       "    <tr>\n",
       "      <th>0</th>\n",
       "      <td>01 Live Animals</td>\n",
       "      <td>Angola</td>\n",
       "      <td>2002</td>\n",
       "      <td>36638.0</td>\n",
       "    </tr>\n",
       "    <tr>\n",
       "      <th>1</th>\n",
       "      <td>01 Live Animals</td>\n",
       "      <td>Angola</td>\n",
       "      <td>2003</td>\n",
       "      <td>78085.0</td>\n",
       "    </tr>\n",
       "    <tr>\n",
       "      <th>2</th>\n",
       "      <td>01 Live Animals</td>\n",
       "      <td>Angola</td>\n",
       "      <td>2005</td>\n",
       "      <td>11578.0</td>\n",
       "    </tr>\n",
       "    <tr>\n",
       "      <th>3</th>\n",
       "      <td>01 Live Animals</td>\n",
       "      <td>Angola</td>\n",
       "      <td>2007</td>\n",
       "      <td>12400.0</td>\n",
       "    </tr>\n",
       "    <tr>\n",
       "      <th>4</th>\n",
       "      <td>01 Live Animals</td>\n",
       "      <td>Benin</td>\n",
       "      <td>2005</td>\n",
       "      <td>6720.0</td>\n",
       "    </tr>\n",
       "  </tbody>\n",
       "</table>\n",
       "</div>"
      ],
      "text/plain": [
       "         Commodity Country  Time  Export Value\n",
       "0  01 Live Animals  Angola  2002       36638.0\n",
       "1  01 Live Animals  Angola  2003       78085.0\n",
       "2  01 Live Animals  Angola  2005       11578.0\n",
       "3  01 Live Animals  Angola  2007       12400.0\n",
       "4  01 Live Animals   Benin  2005        6720.0"
      ]
     },
     "execution_count": 10,
     "metadata": {},
     "output_type": "execute_result"
    }
   ],
   "source": [
    "exports98.head()"
   ]
  },
  {
   "cell_type": "code",
   "execution_count": 11,
   "metadata": {},
   "outputs": [
    {
     "data": {
      "text/html": [
       "<div>\n",
       "<style scoped>\n",
       "    .dataframe tbody tr th:only-of-type {\n",
       "        vertical-align: middle;\n",
       "    }\n",
       "\n",
       "    .dataframe tbody tr th {\n",
       "        vertical-align: top;\n",
       "    }\n",
       "\n",
       "    .dataframe thead th {\n",
       "        text-align: right;\n",
       "    }\n",
       "</style>\n",
       "<table border=\"1\" class=\"dataframe\">\n",
       "  <thead>\n",
       "    <tr style=\"text-align: right;\">\n",
       "      <th></th>\n",
       "      <th>Year</th>\n",
       "      <th>Jan</th>\n",
       "      <th>Feb</th>\n",
       "      <th>Mar</th>\n",
       "      <th>Apr</th>\n",
       "      <th>May</th>\n",
       "      <th>Jun</th>\n",
       "      <th>Jul</th>\n",
       "      <th>Aug</th>\n",
       "      <th>Sep</th>\n",
       "      <th>Oct</th>\n",
       "      <th>Nov</th>\n",
       "      <th>Dec</th>\n",
       "      <th>Annual</th>\n",
       "      <th>HALF1</th>\n",
       "      <th>HALF2</th>\n",
       "    </tr>\n",
       "  </thead>\n",
       "  <tbody>\n",
       "    <tr>\n",
       "      <th>0</th>\n",
       "      <td>1990</td>\n",
       "      <td>127.4</td>\n",
       "      <td>128.0</td>\n",
       "      <td>128.7</td>\n",
       "      <td>128.9</td>\n",
       "      <td>129.2</td>\n",
       "      <td>129.9</td>\n",
       "      <td>130.4</td>\n",
       "      <td>131.6</td>\n",
       "      <td>132.7</td>\n",
       "      <td>133.5</td>\n",
       "      <td>133.8</td>\n",
       "      <td>133.8</td>\n",
       "      <td>130.7</td>\n",
       "      <td>128.7</td>\n",
       "      <td>132.6</td>\n",
       "    </tr>\n",
       "    <tr>\n",
       "      <th>1</th>\n",
       "      <td>1991</td>\n",
       "      <td>134.6</td>\n",
       "      <td>134.8</td>\n",
       "      <td>135.0</td>\n",
       "      <td>135.2</td>\n",
       "      <td>135.6</td>\n",
       "      <td>136.0</td>\n",
       "      <td>136.2</td>\n",
       "      <td>136.6</td>\n",
       "      <td>137.2</td>\n",
       "      <td>137.4</td>\n",
       "      <td>137.8</td>\n",
       "      <td>137.9</td>\n",
       "      <td>136.2</td>\n",
       "      <td>135.2</td>\n",
       "      <td>137.2</td>\n",
       "    </tr>\n",
       "    <tr>\n",
       "      <th>2</th>\n",
       "      <td>1992</td>\n",
       "      <td>138.1</td>\n",
       "      <td>138.6</td>\n",
       "      <td>139.3</td>\n",
       "      <td>139.5</td>\n",
       "      <td>139.7</td>\n",
       "      <td>140.2</td>\n",
       "      <td>140.5</td>\n",
       "      <td>140.9</td>\n",
       "      <td>141.3</td>\n",
       "      <td>141.8</td>\n",
       "      <td>142.0</td>\n",
       "      <td>141.9</td>\n",
       "      <td>140.3</td>\n",
       "      <td>139.2</td>\n",
       "      <td>141.4</td>\n",
       "    </tr>\n",
       "    <tr>\n",
       "      <th>3</th>\n",
       "      <td>1993</td>\n",
       "      <td>142.6</td>\n",
       "      <td>143.1</td>\n",
       "      <td>143.6</td>\n",
       "      <td>144.0</td>\n",
       "      <td>144.2</td>\n",
       "      <td>144.4</td>\n",
       "      <td>144.4</td>\n",
       "      <td>144.8</td>\n",
       "      <td>145.1</td>\n",
       "      <td>145.7</td>\n",
       "      <td>145.8</td>\n",
       "      <td>145.8</td>\n",
       "      <td>144.5</td>\n",
       "      <td>143.7</td>\n",
       "      <td>145.3</td>\n",
       "    </tr>\n",
       "    <tr>\n",
       "      <th>4</th>\n",
       "      <td>1994</td>\n",
       "      <td>146.2</td>\n",
       "      <td>146.7</td>\n",
       "      <td>147.2</td>\n",
       "      <td>147.4</td>\n",
       "      <td>147.5</td>\n",
       "      <td>148.0</td>\n",
       "      <td>148.4</td>\n",
       "      <td>149.0</td>\n",
       "      <td>149.4</td>\n",
       "      <td>149.5</td>\n",
       "      <td>149.7</td>\n",
       "      <td>149.7</td>\n",
       "      <td>148.2</td>\n",
       "      <td>147.2</td>\n",
       "      <td>149.3</td>\n",
       "    </tr>\n",
       "  </tbody>\n",
       "</table>\n",
       "</div>"
      ],
      "text/plain": [
       "   Year    Jan    Feb    Mar    Apr    May    Jun    Jul    Aug    Sep    Oct  \\\n",
       "0  1990  127.4  128.0  128.7  128.9  129.2  129.9  130.4  131.6  132.7  133.5   \n",
       "1  1991  134.6  134.8  135.0  135.2  135.6  136.0  136.2  136.6  137.2  137.4   \n",
       "2  1992  138.1  138.6  139.3  139.5  139.7  140.2  140.5  140.9  141.3  141.8   \n",
       "3  1993  142.6  143.1  143.6  144.0  144.2  144.4  144.4  144.8  145.1  145.7   \n",
       "4  1994  146.2  146.7  147.2  147.4  147.5  148.0  148.4  149.0  149.4  149.5   \n",
       "\n",
       "     Nov    Dec  Annual  HALF1  HALF2  \n",
       "0  133.8  133.8   130.7  128.7  132.6  \n",
       "1  137.8  137.9   136.2  135.2  137.2  \n",
       "2  142.0  141.9   140.3  139.2  141.4  \n",
       "3  145.8  145.8   144.5  143.7  145.3  \n",
       "4  149.7  149.7   148.2  147.2  149.3  "
      ]
     },
     "execution_count": 11,
     "metadata": {},
     "output_type": "execute_result"
    }
   ],
   "source": [
    "USD_CPI_data.head()"
   ]
  },
  {
   "cell_type": "code",
   "execution_count": 12,
   "metadata": {},
   "outputs": [
    {
     "data": {
      "text/html": [
       "<div>\n",
       "<style scoped>\n",
       "    .dataframe tbody tr th:only-of-type {\n",
       "        vertical-align: middle;\n",
       "    }\n",
       "\n",
       "    .dataframe tbody tr th {\n",
       "        vertical-align: top;\n",
       "    }\n",
       "\n",
       "    .dataframe thead th {\n",
       "        text-align: right;\n",
       "    }\n",
       "</style>\n",
       "<table border=\"1\" class=\"dataframe\">\n",
       "  <thead>\n",
       "    <tr style=\"text-align: right;\">\n",
       "      <th></th>\n",
       "      <th>Year</th>\n",
       "      <th>Period</th>\n",
       "      <th>CPI</th>\n",
       "    </tr>\n",
       "  </thead>\n",
       "  <tbody>\n",
       "    <tr>\n",
       "      <th>0</th>\n",
       "      <td>1990</td>\n",
       "      <td>Jan</td>\n",
       "      <td>127.4</td>\n",
       "    </tr>\n",
       "    <tr>\n",
       "      <th>1</th>\n",
       "      <td>1991</td>\n",
       "      <td>Jan</td>\n",
       "      <td>134.6</td>\n",
       "    </tr>\n",
       "    <tr>\n",
       "      <th>2</th>\n",
       "      <td>1992</td>\n",
       "      <td>Jan</td>\n",
       "      <td>138.1</td>\n",
       "    </tr>\n",
       "    <tr>\n",
       "      <th>3</th>\n",
       "      <td>1993</td>\n",
       "      <td>Jan</td>\n",
       "      <td>142.6</td>\n",
       "    </tr>\n",
       "    <tr>\n",
       "      <th>4</th>\n",
       "      <td>1994</td>\n",
       "      <td>Jan</td>\n",
       "      <td>146.2</td>\n",
       "    </tr>\n",
       "  </tbody>\n",
       "</table>\n",
       "</div>"
      ],
      "text/plain": [
       "   Year Period    CPI\n",
       "0  1990    Jan  127.4\n",
       "1  1991    Jan  134.6\n",
       "2  1992    Jan  138.1\n",
       "3  1993    Jan  142.6\n",
       "4  1994    Jan  146.2"
      ]
     },
     "execution_count": 12,
     "metadata": {},
     "output_type": "execute_result"
    }
   ],
   "source": [
    "# Melting the CPI data and unpivoting the CPI values\n",
    "USD_CPI_data = USD_CPI_data.melt(id_vars = 'Year', var_name = 'Period', value_name= 'CPI')\n",
    "USD_CPI_data.head()"
   ]
  },
  {
   "cell_type": "code",
   "execution_count": 13,
   "metadata": {},
   "outputs": [],
   "source": [
    "# Taking only the annual average CPI value\n",
    "USD_CPI_data = USD_CPI_data.loc[USD_CPI_data['Period'] == 'Annual']"
   ]
  },
  {
   "cell_type": "code",
   "execution_count": 14,
   "metadata": {},
   "outputs": [],
   "source": [
    "# Appending the trade datasets together\n",
    "exports_data = exports09.append(exports98, ignore_index = True)\n",
    "imports_data = imports09.append(imports98, ignore_index = True)"
   ]
  },
  {
   "cell_type": "code",
   "execution_count": 15,
   "metadata": {},
   "outputs": [],
   "source": [
    " # Joining CPI values to exports\n",
    "exports_data = pd.merge(exports_data, USD_CPI_data.drop(columns = 'Period'), left_on = 'Time', right_on = 'Year', how = 'inner').drop(columns = 'Time')\n",
    "imports_data = pd.merge(imports_data, USD_CPI_data.drop(columns = 'Period'), left_on = 'Time', right_on = 'Year', how = 'inner').drop(columns = 'Time')\n"
   ]
  },
  {
   "cell_type": "code",
   "execution_count": 16,
   "metadata": {},
   "outputs": [
    {
     "data": {
      "text/html": [
       "<div>\n",
       "<style scoped>\n",
       "    .dataframe tbody tr th:only-of-type {\n",
       "        vertical-align: middle;\n",
       "    }\n",
       "\n",
       "    .dataframe tbody tr th {\n",
       "        vertical-align: top;\n",
       "    }\n",
       "\n",
       "    .dataframe thead th {\n",
       "        text-align: right;\n",
       "    }\n",
       "</style>\n",
       "<table border=\"1\" class=\"dataframe\">\n",
       "  <thead>\n",
       "    <tr style=\"text-align: right;\">\n",
       "      <th></th>\n",
       "      <th>Commodity</th>\n",
       "      <th>Country</th>\n",
       "      <th>Export Value</th>\n",
       "      <th>Year</th>\n",
       "      <th>CPI</th>\n",
       "    </tr>\n",
       "  </thead>\n",
       "  <tbody>\n",
       "    <tr>\n",
       "      <th>0</th>\n",
       "      <td>01 Live Animals</td>\n",
       "      <td>Algeria</td>\n",
       "      <td>52789.0</td>\n",
       "      <td>2010</td>\n",
       "      <td>218.056</td>\n",
       "    </tr>\n",
       "    <tr>\n",
       "      <th>1</th>\n",
       "      <td>01 Live Animals</td>\n",
       "      <td>Congo (Brazzaville)</td>\n",
       "      <td>6857.0</td>\n",
       "      <td>2010</td>\n",
       "      <td>218.056</td>\n",
       "    </tr>\n",
       "    <tr>\n",
       "      <th>2</th>\n",
       "      <td>01 Live Animals</td>\n",
       "      <td>Egypt</td>\n",
       "      <td>3995663.0</td>\n",
       "      <td>2010</td>\n",
       "      <td>218.056</td>\n",
       "    </tr>\n",
       "    <tr>\n",
       "      <th>3</th>\n",
       "      <td>01 Live Animals</td>\n",
       "      <td>Gabon</td>\n",
       "      <td>65000.0</td>\n",
       "      <td>2010</td>\n",
       "      <td>218.056</td>\n",
       "    </tr>\n",
       "    <tr>\n",
       "      <th>4</th>\n",
       "      <td>01 Live Animals</td>\n",
       "      <td>Ghana</td>\n",
       "      <td>1266199.0</td>\n",
       "      <td>2010</td>\n",
       "      <td>218.056</td>\n",
       "    </tr>\n",
       "  </tbody>\n",
       "</table>\n",
       "</div>"
      ],
      "text/plain": [
       "         Commodity              Country  Export Value  Year      CPI\n",
       "0  01 Live Animals              Algeria       52789.0  2010  218.056\n",
       "1  01 Live Animals  Congo (Brazzaville)        6857.0  2010  218.056\n",
       "2  01 Live Animals                Egypt     3995663.0  2010  218.056\n",
       "3  01 Live Animals                Gabon       65000.0  2010  218.056\n",
       "4  01 Live Animals                Ghana     1266199.0  2010  218.056"
      ]
     },
     "execution_count": 16,
     "metadata": {},
     "output_type": "execute_result"
    }
   ],
   "source": [
    "exports_data.head()"
   ]
  },
  {
   "cell_type": "code",
   "execution_count": 17,
   "metadata": {},
   "outputs": [],
   "source": [
    "# Checking to see whether the sets of countries and commodities from imports and exports are different\n",
    "import_countries = set(imports_data.Country)\n",
    "export_countries = set(exports_data.Country)\n",
    "import_commodities = set(imports_data.Commodity)\n",
    "export_commodities = set(exports_data.Commodity)\n"
   ]
  },
  {
   "cell_type": "code",
   "execution_count": 18,
   "metadata": {},
   "outputs": [
    {
     "data": {
      "text/plain": [
       "set()"
      ]
     },
     "execution_count": 18,
     "metadata": {},
     "output_type": "execute_result"
    }
   ],
   "source": [
    "export_countries.difference(import_countries)\n"
   ]
  },
  {
   "cell_type": "code",
   "execution_count": 19,
   "metadata": {
    "scrolled": true
   },
   "outputs": [
    {
     "data": {
      "text/plain": [
       "set()"
      ]
     },
     "execution_count": 19,
     "metadata": {},
     "output_type": "execute_result"
    }
   ],
   "source": [
    "import_countries.difference(export_countries)\n",
    "# Difference between export and import sets are an empty sets"
   ]
  },
  {
   "cell_type": "markdown",
   "metadata": {},
   "source": [
    "##### Possible Learning : Trade is bilateral with every country overall... But may vary each year, since this set is from 20 years of trade. For a more accurate analysis, check whether the country exists in both sets for every year."
   ]
  },
  {
   "cell_type": "code",
   "execution_count": 20,
   "metadata": {},
   "outputs": [
    {
     "data": {
      "text/plain": [
       "set()"
      ]
     },
     "execution_count": 20,
     "metadata": {},
     "output_type": "execute_result"
    }
   ],
   "source": [
    "# Checking the categories of goods, whether the same items that are imported are also exported\n",
    "export_commodities.difference(import_commodities)"
   ]
  },
  {
   "cell_type": "code",
   "execution_count": 21,
   "metadata": {},
   "outputs": [
    {
     "data": {
      "text/plain": [
       "{'99 Special Import Provisions, Nesoi'}"
      ]
     },
     "execution_count": 21,
     "metadata": {},
     "output_type": "execute_result"
    }
   ],
   "source": [
    "import_commodities.difference(export_commodities)"
   ]
  },
  {
   "cell_type": "markdown",
   "metadata": {},
   "source": [
    "##### Seems like the categorization of goods for import and export are the same; i.e. there is only one category which is imported but not exported. Learnings may vary if checked by each year."
   ]
  },
  {
   "cell_type": "code",
   "execution_count": 22,
   "metadata": {},
   "outputs": [],
   "source": [
    "# Concating year to country and commodity to check whether these comparisons will vary when checking by the year\n",
    "\n",
    "def stringItCountry(row):\n",
    "    return row.Country + ' ' + str(row.Year)\n",
    "\n",
    "import_countries_yearly = set(imports_data.apply( stringItCountry,axis = 1))\n",
    "export_countries_yearly = set(exports_data.apply( stringItCountry,axis = 1))\n",
    "\n",
    "def stringItCommodity(row):\n",
    "    return row.Commodity + ' ' + str(row.Year)\n",
    "\n",
    "\n",
    "import_commodities_yearly = set(imports_data.apply( stringItCommodity,axis = 1))\n",
    "export_commodities_yearly = set(exports_data.apply( stringItCommodity,axis = 1))"
   ]
  },
  {
   "cell_type": "code",
   "execution_count": 23,
   "metadata": {
    "scrolled": true
   },
   "outputs": [
    {
     "data": {
      "text/plain": [
       "{'Pitcairn Islands 1998',\n",
       " 'Pitcairn Islands 2008',\n",
       " 'Pitcairn Islands 2013',\n",
       " 'Wallis and Futuna 2001',\n",
       " 'Western Sahara 2002'}"
      ]
     },
     "execution_count": 23,
     "metadata": {},
     "output_type": "execute_result"
    }
   ],
   "source": [
    "# Checking whether there are countries the US imports from but doesn't export to in any particular year\n",
    "import_countries_yearly.difference(export_countries_yearly)"
   ]
  },
  {
   "cell_type": "markdown",
   "metadata": {},
   "source": [
    "##### Insight 1 : There are a few countries the US imports from but does not export any goods to in the same year."
   ]
  },
  {
   "cell_type": "code",
   "execution_count": 24,
   "metadata": {},
   "outputs": [
    {
     "data": {
      "text/plain": [
       "{'Burma 2004',\n",
       " 'Burma 2007',\n",
       " 'Burma 2008',\n",
       " 'Burma 2010',\n",
       " 'Burma 2011',\n",
       " 'Cuba 1998',\n",
       " 'Cuba 2013',\n",
       " 'Cuba 2014',\n",
       " 'Cuba 2015',\n",
       " 'Cuba 2016',\n",
       " 'Cuba 2017',\n",
       " 'French Southern and Antarctic Lands 1999',\n",
       " 'Heard and McDonald Islands 1999',\n",
       " 'Heard and McDonald Islands 2002',\n",
       " 'Heard and McDonald Islands 2009',\n",
       " 'Iran 2014',\n",
       " 'Korea, North 1998',\n",
       " 'Korea, North 2003',\n",
       " 'Korea, North 2007',\n",
       " 'Korea, North 2008',\n",
       " 'Korea, North 2009',\n",
       " 'Korea, North 2011',\n",
       " 'Korea, North 2012',\n",
       " 'Korea, North 2013',\n",
       " 'Korea, North 2014',\n",
       " 'Korea, North 2015',\n",
       " 'Korea, North 2016',\n",
       " 'Korea, North 2017',\n",
       " 'Korea, North 2018',\n",
       " 'Libya 2000',\n",
       " 'Libya 2001',\n",
       " 'Libya 2002',\n",
       " 'Libya 2003',\n",
       " 'Mayotte 2004',\n",
       " 'Svalbard, Jan Mayen Island 2003',\n",
       " 'Svalbard, Jan Mayen Island 2009',\n",
       " 'Timor-Leste 2000',\n",
       " 'Timor-Leste 2010',\n",
       " 'Tuvalu 2002',\n",
       " 'Wallis and Futuna 1998',\n",
       " 'Wallis and Futuna 2000',\n",
       " 'Wallis and Futuna 2002',\n",
       " 'Western Sahara 2000',\n",
       " 'Western Sahara 2001',\n",
       " 'Western Sahara 2004',\n",
       " 'Western Sahara 2005',\n",
       " 'Western Sahara 2006',\n",
       " 'Western Sahara 2009'}"
      ]
     },
     "execution_count": 24,
     "metadata": {},
     "output_type": "execute_result"
    }
   ],
   "source": [
    "# Checking whether there are countries the US exports to but doesn't import from in any particular year\n",
    "export_countries_yearly.difference(import_countries_yearly)\n"
   ]
  },
  {
   "cell_type": "markdown",
   "metadata": {},
   "source": [
    "##### Insight 2 : There are several countries that the US exports to, but does not import any goods from in the same year. This number is higher than the export exclusions."
   ]
  },
  {
   "cell_type": "code",
   "execution_count": 25,
   "metadata": {},
   "outputs": [
    {
     "data": {
      "text/plain": [
       "{'99 Special Import Provisions, Nesoi 1998',\n",
       " '99 Special Import Provisions, Nesoi 1999',\n",
       " '99 Special Import Provisions, Nesoi 2000',\n",
       " '99 Special Import Provisions, Nesoi 2001',\n",
       " '99 Special Import Provisions, Nesoi 2002',\n",
       " '99 Special Import Provisions, Nesoi 2003',\n",
       " '99 Special Import Provisions, Nesoi 2004',\n",
       " '99 Special Import Provisions, Nesoi 2005',\n",
       " '99 Special Import Provisions, Nesoi 2006',\n",
       " '99 Special Import Provisions, Nesoi 2007',\n",
       " '99 Special Import Provisions, Nesoi 2008',\n",
       " '99 Special Import Provisions, Nesoi 2009',\n",
       " '99 Special Import Provisions, Nesoi 2010',\n",
       " '99 Special Import Provisions, Nesoi 2011',\n",
       " '99 Special Import Provisions, Nesoi 2012',\n",
       " '99 Special Import Provisions, Nesoi 2013',\n",
       " '99 Special Import Provisions, Nesoi 2014',\n",
       " '99 Special Import Provisions, Nesoi 2015',\n",
       " '99 Special Import Provisions, Nesoi 2016',\n",
       " '99 Special Import Provisions, Nesoi 2017',\n",
       " '99 Special Import Provisions, Nesoi 2018'}"
      ]
     },
     "execution_count": 25,
     "metadata": {},
     "output_type": "execute_result"
    }
   ],
   "source": [
    "# Comparing categories of goods imported vs exported\n",
    "import_commodities_yearly.difference(export_commodities_yearly)"
   ]
  },
  {
   "cell_type": "code",
   "execution_count": 26,
   "metadata": {},
   "outputs": [
    {
     "data": {
      "text/plain": [
       "set()"
      ]
     },
     "execution_count": 26,
     "metadata": {},
     "output_type": "execute_result"
    }
   ],
   "source": [
    "# Comparing categories of goods exported vs imported\n",
    "export_commodities_yearly.difference(import_commodities_yearly)"
   ]
  },
  {
   "cell_type": "markdown",
   "metadata": {},
   "source": [
    "##### Insight 3 : All categories of goods except one are both imported and exported every year"
   ]
  },
  {
   "cell_type": "code",
   "execution_count": 27,
   "metadata": {},
   "outputs": [],
   "source": [
    "# Joining with the decade mapping to extract the decade for each year\n",
    "exports_data = pd.merge(exports_data, year_to_decade, left_on = 'Year', right_on = 'Year', how = 'inner')\n",
    "imports_data = pd.merge(imports_data, year_to_decade, left_on = 'Year', right_on = 'Year', how = 'inner')"
   ]
  },
  {
   "cell_type": "code",
   "execution_count": 28,
   "metadata": {},
   "outputs": [],
   "source": [
    "# Modifying the commodities columns to remove the prefixed number   ; i.e. '01 Live Animals' to 'Live Animals'\n",
    "def commodityClean(row):\n",
    "    return ' '.join(row.Commodity.split(' ')[1:])\n",
    "\n",
    "exports_data['Commodity'] = exports_data.apply(commodityClean, axis = 1)\n",
    "imports_data['Commodity'] = imports_data.apply(commodityClean, axis = 1)"
   ]
  },
  {
   "cell_type": "code",
   "execution_count": 29,
   "metadata": {},
   "outputs": [
    {
     "data": {
      "text/html": [
       "<div>\n",
       "<style scoped>\n",
       "    .dataframe tbody tr th:only-of-type {\n",
       "        vertical-align: middle;\n",
       "    }\n",
       "\n",
       "    .dataframe tbody tr th {\n",
       "        vertical-align: top;\n",
       "    }\n",
       "\n",
       "    .dataframe thead th {\n",
       "        text-align: right;\n",
       "    }\n",
       "</style>\n",
       "<table border=\"1\" class=\"dataframe\">\n",
       "  <thead>\n",
       "    <tr style=\"text-align: right;\">\n",
       "      <th></th>\n",
       "      <th>Commodity</th>\n",
       "      <th>Country</th>\n",
       "      <th>Export Value</th>\n",
       "      <th>Year</th>\n",
       "      <th>CPI</th>\n",
       "      <th>Decade</th>\n",
       "    </tr>\n",
       "  </thead>\n",
       "  <tbody>\n",
       "    <tr>\n",
       "      <th>0</th>\n",
       "      <td>Live Animals</td>\n",
       "      <td>Algeria</td>\n",
       "      <td>52789.0</td>\n",
       "      <td>2010</td>\n",
       "      <td>218.056</td>\n",
       "      <td>2010s</td>\n",
       "    </tr>\n",
       "    <tr>\n",
       "      <th>1</th>\n",
       "      <td>Live Animals</td>\n",
       "      <td>Congo (Brazzaville)</td>\n",
       "      <td>6857.0</td>\n",
       "      <td>2010</td>\n",
       "      <td>218.056</td>\n",
       "      <td>2010s</td>\n",
       "    </tr>\n",
       "    <tr>\n",
       "      <th>2</th>\n",
       "      <td>Live Animals</td>\n",
       "      <td>Egypt</td>\n",
       "      <td>3995663.0</td>\n",
       "      <td>2010</td>\n",
       "      <td>218.056</td>\n",
       "      <td>2010s</td>\n",
       "    </tr>\n",
       "    <tr>\n",
       "      <th>3</th>\n",
       "      <td>Live Animals</td>\n",
       "      <td>Gabon</td>\n",
       "      <td>65000.0</td>\n",
       "      <td>2010</td>\n",
       "      <td>218.056</td>\n",
       "      <td>2010s</td>\n",
       "    </tr>\n",
       "    <tr>\n",
       "      <th>4</th>\n",
       "      <td>Live Animals</td>\n",
       "      <td>Ghana</td>\n",
       "      <td>1266199.0</td>\n",
       "      <td>2010</td>\n",
       "      <td>218.056</td>\n",
       "      <td>2010s</td>\n",
       "    </tr>\n",
       "  </tbody>\n",
       "</table>\n",
       "</div>"
      ],
      "text/plain": [
       "      Commodity              Country  Export Value  Year      CPI Decade\n",
       "0  Live Animals              Algeria       52789.0  2010  218.056  2010s\n",
       "1  Live Animals  Congo (Brazzaville)        6857.0  2010  218.056  2010s\n",
       "2  Live Animals                Egypt     3995663.0  2010  218.056  2010s\n",
       "3  Live Animals                Gabon       65000.0  2010  218.056  2010s\n",
       "4  Live Animals                Ghana     1266199.0  2010  218.056  2010s"
      ]
     },
     "execution_count": 29,
     "metadata": {},
     "output_type": "execute_result"
    }
   ],
   "source": [
    "exports_data.head()"
   ]
  },
  {
   "cell_type": "code",
   "execution_count": 30,
   "metadata": {},
   "outputs": [
    {
     "data": {
      "text/html": [
       "<div>\n",
       "<style scoped>\n",
       "    .dataframe tbody tr th:only-of-type {\n",
       "        vertical-align: middle;\n",
       "    }\n",
       "\n",
       "    .dataframe tbody tr th {\n",
       "        vertical-align: top;\n",
       "    }\n",
       "\n",
       "    .dataframe thead th {\n",
       "        text-align: right;\n",
       "    }\n",
       "</style>\n",
       "<table border=\"1\" class=\"dataframe\">\n",
       "  <thead>\n",
       "    <tr style=\"text-align: right;\">\n",
       "      <th></th>\n",
       "      <th>Year</th>\n",
       "      <th>Period</th>\n",
       "      <th>CPI</th>\n",
       "    </tr>\n",
       "  </thead>\n",
       "  <tbody>\n",
       "    <tr>\n",
       "      <th>360</th>\n",
       "      <td>1990</td>\n",
       "      <td>Annual</td>\n",
       "      <td>130.7</td>\n",
       "    </tr>\n",
       "    <tr>\n",
       "      <th>361</th>\n",
       "      <td>1991</td>\n",
       "      <td>Annual</td>\n",
       "      <td>136.2</td>\n",
       "    </tr>\n",
       "    <tr>\n",
       "      <th>362</th>\n",
       "      <td>1992</td>\n",
       "      <td>Annual</td>\n",
       "      <td>140.3</td>\n",
       "    </tr>\n",
       "    <tr>\n",
       "      <th>363</th>\n",
       "      <td>1993</td>\n",
       "      <td>Annual</td>\n",
       "      <td>144.5</td>\n",
       "    </tr>\n",
       "    <tr>\n",
       "      <th>364</th>\n",
       "      <td>1994</td>\n",
       "      <td>Annual</td>\n",
       "      <td>148.2</td>\n",
       "    </tr>\n",
       "  </tbody>\n",
       "</table>\n",
       "</div>"
      ],
      "text/plain": [
       "     Year  Period    CPI\n",
       "360  1990  Annual  130.7\n",
       "361  1991  Annual  136.2\n",
       "362  1992  Annual  140.3\n",
       "363  1993  Annual  144.5\n",
       "364  1994  Annual  148.2"
      ]
     },
     "execution_count": 30,
     "metadata": {},
     "output_type": "execute_result"
    }
   ],
   "source": [
    "# Using the CPI at each year we will adjust for inflation \n",
    "# Will fix the value for the latest year, i.e. 2018\n",
    "# To adjust by CPI .... Value at x = Value at y * CPI at x / CPI at y\n",
    "USD_CPI_data.head()"
   ]
  },
  {
   "cell_type": "code",
   "execution_count": 31,
   "metadata": {},
   "outputs": [
    {
     "data": {
      "text/plain": [
       "251.107"
      ]
     },
     "execution_count": 31,
     "metadata": {},
     "output_type": "execute_result"
    }
   ],
   "source": [
    "# Taking the CPI value at 2018\n",
    "CPI_2018 = float(USD_CPI_data.loc[USD_CPI_data['Year'] == 2018].CPI)\n",
    "CPI_2018"
   ]
  },
  {
   "cell_type": "code",
   "execution_count": 47,
   "metadata": {},
   "outputs": [],
   "source": [
    "# Adjusting older USD value to USD values at 2018 using the CPI ratio\n",
    "exports_data['Adjusted Export Value'] = exports_data.apply(lambda row: round(row['Export Value'] *  CPI_2018 / row['CPI'], 2), axis = 1)\n",
    "imports_data['Adjusted Import Value'] = imports_data.apply(lambda row: round(row['Import Value'] *  CPI_2018 / row['CPI'], 2), axis = 1)"
   ]
  },
  {
   "cell_type": "code",
   "execution_count": 33,
   "metadata": {},
   "outputs": [
    {
     "data": {
      "text/html": [
       "<div>\n",
       "<style scoped>\n",
       "    .dataframe tbody tr th:only-of-type {\n",
       "        vertical-align: middle;\n",
       "    }\n",
       "\n",
       "    .dataframe tbody tr th {\n",
       "        vertical-align: top;\n",
       "    }\n",
       "\n",
       "    .dataframe thead th {\n",
       "        text-align: right;\n",
       "    }\n",
       "</style>\n",
       "<table border=\"1\" class=\"dataframe\">\n",
       "  <thead>\n",
       "    <tr style=\"text-align: right;\">\n",
       "      <th></th>\n",
       "      <th>Commodity</th>\n",
       "      <th>Country</th>\n",
       "      <th>Import Value</th>\n",
       "      <th>Year</th>\n",
       "      <th>CPI</th>\n",
       "      <th>Decade</th>\n",
       "      <th>Adjusted Import Value</th>\n",
       "    </tr>\n",
       "  </thead>\n",
       "  <tbody>\n",
       "    <tr>\n",
       "      <th>0</th>\n",
       "      <td>Live Animals</td>\n",
       "      <td>Benin</td>\n",
       "      <td>47606.0</td>\n",
       "      <td>2009</td>\n",
       "      <td>214.537</td>\n",
       "      <td>2000s</td>\n",
       "      <td>55720.92</td>\n",
       "    </tr>\n",
       "    <tr>\n",
       "      <th>1</th>\n",
       "      <td>Live Animals</td>\n",
       "      <td>Cameroon</td>\n",
       "      <td>6306.0</td>\n",
       "      <td>2009</td>\n",
       "      <td>214.537</td>\n",
       "      <td>2000s</td>\n",
       "      <td>7380.92</td>\n",
       "    </tr>\n",
       "    <tr>\n",
       "      <th>2</th>\n",
       "      <td>Live Animals</td>\n",
       "      <td>Egypt</td>\n",
       "      <td>23650.0</td>\n",
       "      <td>2009</td>\n",
       "      <td>214.537</td>\n",
       "      <td>2000s</td>\n",
       "      <td>27681.38</td>\n",
       "    </tr>\n",
       "    <tr>\n",
       "      <th>3</th>\n",
       "      <td>Live Animals</td>\n",
       "      <td>Equatorial Guinea</td>\n",
       "      <td>27042.0</td>\n",
       "      <td>2009</td>\n",
       "      <td>214.537</td>\n",
       "      <td>2000s</td>\n",
       "      <td>31651.58</td>\n",
       "    </tr>\n",
       "    <tr>\n",
       "      <th>4</th>\n",
       "      <td>Live Animals</td>\n",
       "      <td>Ethiopia</td>\n",
       "      <td>91750.0</td>\n",
       "      <td>2009</td>\n",
       "      <td>214.537</td>\n",
       "      <td>2000s</td>\n",
       "      <td>107389.71</td>\n",
       "    </tr>\n",
       "  </tbody>\n",
       "</table>\n",
       "</div>"
      ],
      "text/plain": [
       "      Commodity            Country  Import Value  Year      CPI Decade  \\\n",
       "0  Live Animals              Benin       47606.0  2009  214.537  2000s   \n",
       "1  Live Animals           Cameroon        6306.0  2009  214.537  2000s   \n",
       "2  Live Animals              Egypt       23650.0  2009  214.537  2000s   \n",
       "3  Live Animals  Equatorial Guinea       27042.0  2009  214.537  2000s   \n",
       "4  Live Animals           Ethiopia       91750.0  2009  214.537  2000s   \n",
       "\n",
       "   Adjusted Import Value  \n",
       "0               55720.92  \n",
       "1                7380.92  \n",
       "2               27681.38  \n",
       "3               31651.58  \n",
       "4              107389.71  "
      ]
     },
     "execution_count": 33,
     "metadata": {},
     "output_type": "execute_result"
    }
   ],
   "source": [
    "imports_data.head()"
   ]
  },
  {
   "cell_type": "code",
   "execution_count": 34,
   "metadata": {},
   "outputs": [
    {
     "data": {
      "text/html": [
       "<div>\n",
       "<style scoped>\n",
       "    .dataframe tbody tr th:only-of-type {\n",
       "        vertical-align: middle;\n",
       "    }\n",
       "\n",
       "    .dataframe tbody tr th {\n",
       "        vertical-align: top;\n",
       "    }\n",
       "\n",
       "    .dataframe thead th {\n",
       "        text-align: right;\n",
       "    }\n",
       "</style>\n",
       "<table border=\"1\" class=\"dataframe\">\n",
       "  <thead>\n",
       "    <tr style=\"text-align: right;\">\n",
       "      <th></th>\n",
       "      <th>Year</th>\n",
       "      <th>Adjusted Import Value</th>\n",
       "    </tr>\n",
       "  </thead>\n",
       "  <tbody>\n",
       "    <tr>\n",
       "      <th>0</th>\n",
       "      <td>1998</td>\n",
       "      <td>1.404877e+12</td>\n",
       "    </tr>\n",
       "    <tr>\n",
       "      <th>1</th>\n",
       "      <td>1999</td>\n",
       "      <td>1.544494e+12</td>\n",
       "    </tr>\n",
       "    <tr>\n",
       "      <th>2</th>\n",
       "      <td>2000</td>\n",
       "      <td>1.776386e+12</td>\n",
       "    </tr>\n",
       "    <tr>\n",
       "      <th>3</th>\n",
       "      <td>2001</td>\n",
       "      <td>1.618028e+12</td>\n",
       "    </tr>\n",
       "    <tr>\n",
       "      <th>4</th>\n",
       "      <td>2002</td>\n",
       "      <td>1.621276e+12</td>\n",
       "    </tr>\n",
       "  </tbody>\n",
       "</table>\n",
       "</div>"
      ],
      "text/plain": [
       "   Year  Adjusted Import Value\n",
       "0  1998           1.404877e+12\n",
       "1  1999           1.544494e+12\n",
       "2  2000           1.776386e+12\n",
       "3  2001           1.618028e+12\n",
       "4  2002           1.621276e+12"
      ]
     },
     "execution_count": 34,
     "metadata": {},
     "output_type": "execute_result"
    }
   ],
   "source": [
    "# Wrangling for Plot 1 : Total Imports vs Total Exports per year\n",
    "# Summing up the total exports and imports per year \n",
    "total_exports = exports_data.groupby('Year', as_index=False).agg({'Adjusted Export Value':[sum]})\n",
    "total_exports.columns = total_exports.columns.get_level_values(0)\n",
    "total_imports = imports_data.groupby('Year', as_index=False).agg({'Adjusted Import Value':[sum]})\n",
    "total_imports.columns = total_imports.columns.get_level_values(0)\n",
    "total_imports.head()\n",
    "\n"
   ]
  },
  {
   "cell_type": "code",
   "execution_count": 35,
   "metadata": {},
   "outputs": [
    {
     "data": {
      "text/plain": [
       "1544493680402.7087"
      ]
     },
     "execution_count": 35,
     "metadata": {},
     "output_type": "execute_result"
    }
   ],
   "source": [
    "total_imports['Adjusted Import Value'][1]"
   ]
  },
  {
   "cell_type": "code",
   "execution_count": 36,
   "metadata": {},
   "outputs": [],
   "source": [
    "total_trade = pd.merge(total_exports, total_imports, on = 'Year', how = 'inner')"
   ]
  },
  {
   "cell_type": "code",
   "execution_count": 37,
   "metadata": {},
   "outputs": [],
   "source": [
    "# calculating an import:export ratio to compare the values\n",
    "total_trade['Import to Export Ratio'] = total_trade['Adjusted Import Value']/total_trade['Adjusted Export Value']"
   ]
  },
  {
   "cell_type": "code",
   "execution_count": 38,
   "metadata": {},
   "outputs": [
    {
     "data": {
      "text/html": [
       "<div>\n",
       "<style scoped>\n",
       "    .dataframe tbody tr th:only-of-type {\n",
       "        vertical-align: middle;\n",
       "    }\n",
       "\n",
       "    .dataframe tbody tr th {\n",
       "        vertical-align: top;\n",
       "    }\n",
       "\n",
       "    .dataframe thead th {\n",
       "        text-align: right;\n",
       "    }\n",
       "</style>\n",
       "<table border=\"1\" class=\"dataframe\">\n",
       "  <thead>\n",
       "    <tr style=\"text-align: right;\">\n",
       "      <th></th>\n",
       "      <th>Year</th>\n",
       "      <th>Adjusted Export Value</th>\n",
       "      <th>Adjusted Import Value</th>\n",
       "      <th>Import to Export Ratio</th>\n",
       "    </tr>\n",
       "  </thead>\n",
       "  <tbody>\n",
       "    <tr>\n",
       "      <th>0</th>\n",
       "      <td>1998</td>\n",
       "      <td>1.050489e+12</td>\n",
       "      <td>1.404877e+12</td>\n",
       "      <td>1.337356</td>\n",
       "    </tr>\n",
       "    <tr>\n",
       "      <th>1</th>\n",
       "      <td>1999</td>\n",
       "      <td>1.048438e+12</td>\n",
       "      <td>1.544494e+12</td>\n",
       "      <td>1.473138</td>\n",
       "    </tr>\n",
       "    <tr>\n",
       "      <th>2</th>\n",
       "      <td>2000</td>\n",
       "      <td>1.140097e+12</td>\n",
       "      <td>1.776386e+12</td>\n",
       "      <td>1.558101</td>\n",
       "    </tr>\n",
       "    <tr>\n",
       "      <th>3</th>\n",
       "      <td>2001</td>\n",
       "      <td>1.033735e+12</td>\n",
       "      <td>1.618028e+12</td>\n",
       "      <td>1.565225</td>\n",
       "    </tr>\n",
       "    <tr>\n",
       "      <th>4</th>\n",
       "      <td>2002</td>\n",
       "      <td>9.675648e+11</td>\n",
       "      <td>1.621276e+12</td>\n",
       "      <td>1.675625</td>\n",
       "    </tr>\n",
       "    <tr>\n",
       "      <th>5</th>\n",
       "      <td>2003</td>\n",
       "      <td>9.891422e+11</td>\n",
       "      <td>1.715944e+12</td>\n",
       "      <td>1.734780</td>\n",
       "    </tr>\n",
       "    <tr>\n",
       "      <th>6</th>\n",
       "      <td>2004</td>\n",
       "      <td>1.083208e+12</td>\n",
       "      <td>1.954051e+12</td>\n",
       "      <td>1.803949</td>\n",
       "    </tr>\n",
       "    <tr>\n",
       "      <th>7</th>\n",
       "      <td>2005</td>\n",
       "      <td>1.158487e+12</td>\n",
       "      <td>2.152060e+12</td>\n",
       "      <td>1.857647</td>\n",
       "    </tr>\n",
       "    <tr>\n",
       "      <th>8</th>\n",
       "      <td>2006</td>\n",
       "      <td>1.278039e+12</td>\n",
       "      <td>2.309477e+12</td>\n",
       "      <td>1.807047</td>\n",
       "    </tr>\n",
       "    <tr>\n",
       "      <th>9</th>\n",
       "      <td>2007</td>\n",
       "      <td>1.390460e+12</td>\n",
       "      <td>2.370164e+12</td>\n",
       "      <td>1.704590</td>\n",
       "    </tr>\n",
       "    <tr>\n",
       "      <th>10</th>\n",
       "      <td>2008</td>\n",
       "      <td>1.501802e+12</td>\n",
       "      <td>2.453878e+12</td>\n",
       "      <td>1.633956</td>\n",
       "    </tr>\n",
       "    <tr>\n",
       "      <th>11</th>\n",
       "      <td>2009</td>\n",
       "      <td>1.236138e+12</td>\n",
       "      <td>1.825833e+12</td>\n",
       "      <td>1.477046</td>\n",
       "    </tr>\n",
       "    <tr>\n",
       "      <th>12</th>\n",
       "      <td>2010</td>\n",
       "      <td>1.472424e+12</td>\n",
       "      <td>2.204436e+12</td>\n",
       "      <td>1.497148</td>\n",
       "    </tr>\n",
       "    <tr>\n",
       "      <th>13</th>\n",
       "      <td>2011</td>\n",
       "      <td>1.654979e+12</td>\n",
       "      <td>2.465253e+12</td>\n",
       "      <td>1.489598</td>\n",
       "    </tr>\n",
       "    <tr>\n",
       "      <th>14</th>\n",
       "      <td>2012</td>\n",
       "      <td>1.690494e+12</td>\n",
       "      <td>2.489575e+12</td>\n",
       "      <td>1.472690</td>\n",
       "    </tr>\n",
       "    <tr>\n",
       "      <th>15</th>\n",
       "      <td>2013</td>\n",
       "      <td>1.701331e+12</td>\n",
       "      <td>2.444709e+12</td>\n",
       "      <td>1.436939</td>\n",
       "    </tr>\n",
       "    <tr>\n",
       "      <th>16</th>\n",
       "      <td>2014</td>\n",
       "      <td>1.720336e+12</td>\n",
       "      <td>2.499412e+12</td>\n",
       "      <td>1.452862</td>\n",
       "    </tr>\n",
       "    <tr>\n",
       "      <th>17</th>\n",
       "      <td>2015</td>\n",
       "      <td>1.592700e+12</td>\n",
       "      <td>2.382504e+12</td>\n",
       "      <td>1.495890</td>\n",
       "    </tr>\n",
       "    <tr>\n",
       "      <th>18</th>\n",
       "      <td>2016</td>\n",
       "      <td>1.518590e+12</td>\n",
       "      <td>2.287929e+12</td>\n",
       "      <td>1.506615</td>\n",
       "    </tr>\n",
       "    <tr>\n",
       "      <th>19</th>\n",
       "      <td>2017</td>\n",
       "      <td>1.584253e+12</td>\n",
       "      <td>2.397042e+12</td>\n",
       "      <td>1.513043</td>\n",
       "    </tr>\n",
       "    <tr>\n",
       "      <th>20</th>\n",
       "      <td>2018</td>\n",
       "      <td>1.666043e+12</td>\n",
       "      <td>2.540812e+12</td>\n",
       "      <td>1.525058</td>\n",
       "    </tr>\n",
       "  </tbody>\n",
       "</table>\n",
       "</div>"
      ],
      "text/plain": [
       "    Year  Adjusted Export Value  Adjusted Import Value  Import to Export Ratio\n",
       "0   1998           1.050489e+12           1.404877e+12                1.337356\n",
       "1   1999           1.048438e+12           1.544494e+12                1.473138\n",
       "2   2000           1.140097e+12           1.776386e+12                1.558101\n",
       "3   2001           1.033735e+12           1.618028e+12                1.565225\n",
       "4   2002           9.675648e+11           1.621276e+12                1.675625\n",
       "5   2003           9.891422e+11           1.715944e+12                1.734780\n",
       "6   2004           1.083208e+12           1.954051e+12                1.803949\n",
       "7   2005           1.158487e+12           2.152060e+12                1.857647\n",
       "8   2006           1.278039e+12           2.309477e+12                1.807047\n",
       "9   2007           1.390460e+12           2.370164e+12                1.704590\n",
       "10  2008           1.501802e+12           2.453878e+12                1.633956\n",
       "11  2009           1.236138e+12           1.825833e+12                1.477046\n",
       "12  2010           1.472424e+12           2.204436e+12                1.497148\n",
       "13  2011           1.654979e+12           2.465253e+12                1.489598\n",
       "14  2012           1.690494e+12           2.489575e+12                1.472690\n",
       "15  2013           1.701331e+12           2.444709e+12                1.436939\n",
       "16  2014           1.720336e+12           2.499412e+12                1.452862\n",
       "17  2015           1.592700e+12           2.382504e+12                1.495890\n",
       "18  2016           1.518590e+12           2.287929e+12                1.506615\n",
       "19  2017           1.584253e+12           2.397042e+12                1.513043\n",
       "20  2018           1.666043e+12           2.540812e+12                1.525058"
      ]
     },
     "execution_count": 38,
     "metadata": {},
     "output_type": "execute_result"
    }
   ],
   "source": [
    "total_trade\n",
    "# The import to export ratio is always above 1"
   ]
  },
  {
   "cell_type": "markdown",
   "metadata": {},
   "source": [
    "##### Insight 4 : There has always been a trade deficit, i.e. , imported value is always higher than exported value"
   ]
  },
  {
   "cell_type": "code",
   "execution_count": 39,
   "metadata": {},
   "outputs": [
    {
     "data": {
      "text/html": [
       "<div>\n",
       "<style scoped>\n",
       "    .dataframe tbody tr th:only-of-type {\n",
       "        vertical-align: middle;\n",
       "    }\n",
       "\n",
       "    .dataframe tbody tr th {\n",
       "        vertical-align: top;\n",
       "    }\n",
       "\n",
       "    .dataframe thead th {\n",
       "        text-align: right;\n",
       "    }\n",
       "</style>\n",
       "<table border=\"1\" class=\"dataframe\">\n",
       "  <thead>\n",
       "    <tr style=\"text-align: right;\">\n",
       "      <th></th>\n",
       "      <th>Year</th>\n",
       "      <th>Trade Type</th>\n",
       "      <th>Trade Value</th>\n",
       "    </tr>\n",
       "  </thead>\n",
       "  <tbody>\n",
       "    <tr>\n",
       "      <th>0</th>\n",
       "      <td>1998</td>\n",
       "      <td>Adjusted Import Value</td>\n",
       "      <td>1.404877e+12</td>\n",
       "    </tr>\n",
       "    <tr>\n",
       "      <th>1</th>\n",
       "      <td>1999</td>\n",
       "      <td>Adjusted Import Value</td>\n",
       "      <td>1.544494e+12</td>\n",
       "    </tr>\n",
       "    <tr>\n",
       "      <th>2</th>\n",
       "      <td>2000</td>\n",
       "      <td>Adjusted Import Value</td>\n",
       "      <td>1.776386e+12</td>\n",
       "    </tr>\n",
       "    <tr>\n",
       "      <th>3</th>\n",
       "      <td>2001</td>\n",
       "      <td>Adjusted Import Value</td>\n",
       "      <td>1.618028e+12</td>\n",
       "    </tr>\n",
       "    <tr>\n",
       "      <th>4</th>\n",
       "      <td>2002</td>\n",
       "      <td>Adjusted Import Value</td>\n",
       "      <td>1.621276e+12</td>\n",
       "    </tr>\n",
       "  </tbody>\n",
       "</table>\n",
       "</div>"
      ],
      "text/plain": [
       "   Year             Trade Type   Trade Value\n",
       "0  1998  Adjusted Import Value  1.404877e+12\n",
       "1  1999  Adjusted Import Value  1.544494e+12\n",
       "2  2000  Adjusted Import Value  1.776386e+12\n",
       "3  2001  Adjusted Import Value  1.618028e+12\n",
       "4  2002  Adjusted Import Value  1.621276e+12"
      ]
     },
     "execution_count": 39,
     "metadata": {},
     "output_type": "execute_result"
    }
   ],
   "source": [
    "# Converting the dataframe to long format in order to work with the seaborn package\n",
    "total_trade_long = total_trade.melt(id_vars = 'Year', value_vars= ['Adjusted Import Value', 'Adjusted Export Value'], var_name='Trade Type', value_name= 'Trade Value')\n",
    "total_trade_long.head()\n"
   ]
  },
  {
   "cell_type": "code",
   "execution_count": 40,
   "metadata": {},
   "outputs": [
    {
     "data": {
      "text/html": [
       "<div>\n",
       "<style scoped>\n",
       "    .dataframe tbody tr th:only-of-type {\n",
       "        vertical-align: middle;\n",
       "    }\n",
       "\n",
       "    .dataframe tbody tr th {\n",
       "        vertical-align: top;\n",
       "    }\n",
       "\n",
       "    .dataframe thead th {\n",
       "        text-align: right;\n",
       "    }\n",
       "</style>\n",
       "<table border=\"1\" class=\"dataframe\">\n",
       "  <thead>\n",
       "    <tr style=\"text-align: right;\">\n",
       "      <th></th>\n",
       "      <th>Year</th>\n",
       "      <th>Trade Type</th>\n",
       "      <th>Trade Value</th>\n",
       "    </tr>\n",
       "  </thead>\n",
       "  <tbody>\n",
       "    <tr>\n",
       "      <th>0</th>\n",
       "      <td>1998</td>\n",
       "      <td>Adjusted Import Value</td>\n",
       "      <td>1.404877</td>\n",
       "    </tr>\n",
       "    <tr>\n",
       "      <th>1</th>\n",
       "      <td>1999</td>\n",
       "      <td>Adjusted Import Value</td>\n",
       "      <td>1.544494</td>\n",
       "    </tr>\n",
       "    <tr>\n",
       "      <th>2</th>\n",
       "      <td>2000</td>\n",
       "      <td>Adjusted Import Value</td>\n",
       "      <td>1.776386</td>\n",
       "    </tr>\n",
       "    <tr>\n",
       "      <th>3</th>\n",
       "      <td>2001</td>\n",
       "      <td>Adjusted Import Value</td>\n",
       "      <td>1.618028</td>\n",
       "    </tr>\n",
       "    <tr>\n",
       "      <th>4</th>\n",
       "      <td>2002</td>\n",
       "      <td>Adjusted Import Value</td>\n",
       "      <td>1.621276</td>\n",
       "    </tr>\n",
       "  </tbody>\n",
       "</table>\n",
       "</div>"
      ],
      "text/plain": [
       "   Year             Trade Type  Trade Value\n",
       "0  1998  Adjusted Import Value     1.404877\n",
       "1  1999  Adjusted Import Value     1.544494\n",
       "2  2000  Adjusted Import Value     1.776386\n",
       "3  2001  Adjusted Import Value     1.618028\n",
       "4  2002  Adjusted Import Value     1.621276"
      ]
     },
     "execution_count": 40,
     "metadata": {},
     "output_type": "execute_result"
    }
   ],
   "source": [
    "# Changing the unit of trade_value to trillions\n",
    "total_trade_long['Trade Value'] = total_trade_long['Trade Value']/1000000000000\n",
    "total_trade_long.head()"
   ]
  },
  {
   "cell_type": "markdown",
   "metadata": {},
   "source": [
    "#### Plot 1 : Total US Imports vs Exports"
   ]
  },
  {
   "cell_type": "code",
   "execution_count": 41,
   "metadata": {},
   "outputs": [
    {
     "data": {
      "image/png": "[encoded data removed]",
      "text/plain": [
       "<Figure size 1080x504 with 1 Axes>"
      ]
     },
     "metadata": {
      "needs_background": "light"
     },
     "output_type": "display_data"
    }
   ],
   "source": [
    "plt.figure(figsize=(15,7))\n",
    "sns.lineplot( x = 'Year', y = 'Trade Value', hue= 'Trade Type', data = total_trade_long);\n",
    "plt.ticklabel_format(style='plain', axis='y')\n",
    "plt.ticklabel_format(style='plain', axis='x')\n",
    "plt.xticks(np.arange(total_trade_long.Year.min(), total_trade_long.Year.max() + 1, 1))\n",
    "plt.ylabel('Trade Value $(Trillions)')\n",
    "plt.title('Total US Imports vs Exports');\n"
   ]
  },
  {
   "cell_type": "markdown",
   "metadata": {},
   "source": [
    " ##### The dip in trade that was observed during the recession is evident\n",
    " ##### The recession started in December of 2007 and lasted till June of 2009, so it's interesting to note that trade did not dip immediately in 2008, but instead went up in 2008 and dropped sharply in 2009"
   ]
  },
  {
   "cell_type": "code",
   "execution_count": 42,
   "metadata": {},
   "outputs": [
    {
     "data": {
      "text/html": [
       "<div>\n",
       "<style scoped>\n",
       "    .dataframe tbody tr th:only-of-type {\n",
       "        vertical-align: middle;\n",
       "    }\n",
       "\n",
       "    .dataframe tbody tr th {\n",
       "        vertical-align: top;\n",
       "    }\n",
       "\n",
       "    .dataframe thead th {\n",
       "        text-align: right;\n",
       "    }\n",
       "</style>\n",
       "<table border=\"1\" class=\"dataframe\">\n",
       "  <thead>\n",
       "    <tr style=\"text-align: right;\">\n",
       "      <th></th>\n",
       "      <th>Commodity</th>\n",
       "      <th>Country</th>\n",
       "      <th>Export Value</th>\n",
       "      <th>Year</th>\n",
       "      <th>CPI</th>\n",
       "      <th>Decade</th>\n",
       "      <th>Adjusted Export Value</th>\n",
       "    </tr>\n",
       "  </thead>\n",
       "  <tbody>\n",
       "    <tr>\n",
       "      <th>0</th>\n",
       "      <td>Live Animals</td>\n",
       "      <td>Algeria</td>\n",
       "      <td>52789.0</td>\n",
       "      <td>2010</td>\n",
       "      <td>218.056</td>\n",
       "      <td>2010s</td>\n",
       "      <td>60790.29</td>\n",
       "    </tr>\n",
       "    <tr>\n",
       "      <th>1</th>\n",
       "      <td>Live Animals</td>\n",
       "      <td>Congo (Brazzaville)</td>\n",
       "      <td>6857.0</td>\n",
       "      <td>2010</td>\n",
       "      <td>218.056</td>\n",
       "      <td>2010s</td>\n",
       "      <td>7896.32</td>\n",
       "    </tr>\n",
       "    <tr>\n",
       "      <th>2</th>\n",
       "      <td>Live Animals</td>\n",
       "      <td>Egypt</td>\n",
       "      <td>3995663.0</td>\n",
       "      <td>2010</td>\n",
       "      <td>218.056</td>\n",
       "      <td>2010s</td>\n",
       "      <td>4601290.26</td>\n",
       "    </tr>\n",
       "    <tr>\n",
       "      <th>3</th>\n",
       "      <td>Live Animals</td>\n",
       "      <td>Gabon</td>\n",
       "      <td>65000.0</td>\n",
       "      <td>2010</td>\n",
       "      <td>218.056</td>\n",
       "      <td>2010s</td>\n",
       "      <td>74852.13</td>\n",
       "    </tr>\n",
       "    <tr>\n",
       "      <th>4</th>\n",
       "      <td>Live Animals</td>\n",
       "      <td>Ghana</td>\n",
       "      <td>1266199.0</td>\n",
       "      <td>2010</td>\n",
       "      <td>218.056</td>\n",
       "      <td>2010s</td>\n",
       "      <td>1458118.25</td>\n",
       "    </tr>\n",
       "  </tbody>\n",
       "</table>\n",
       "</div>"
      ],
      "text/plain": [
       "      Commodity              Country  Export Value  Year      CPI Decade  \\\n",
       "0  Live Animals              Algeria       52789.0  2010  218.056  2010s   \n",
       "1  Live Animals  Congo (Brazzaville)        6857.0  2010  218.056  2010s   \n",
       "2  Live Animals                Egypt     3995663.0  2010  218.056  2010s   \n",
       "3  Live Animals                Gabon       65000.0  2010  218.056  2010s   \n",
       "4  Live Animals                Ghana     1266199.0  2010  218.056  2010s   \n",
       "\n",
       "   Adjusted Export Value  \n",
       "0               60790.29  \n",
       "1                7896.32  \n",
       "2             4601290.26  \n",
       "3               74852.13  \n",
       "4             1458118.25  "
      ]
     },
     "execution_count": 42,
     "metadata": {},
     "output_type": "execute_result"
    }
   ],
   "source": [
    "exports_data.head()"
   ]
  },
  {
   "cell_type": "code",
   "execution_count": 43,
   "metadata": {},
   "outputs": [
    {
     "data": {
      "text/html": [
       "<div>\n",
       "<style scoped>\n",
       "    .dataframe tbody tr th:only-of-type {\n",
       "        vertical-align: middle;\n",
       "    }\n",
       "\n",
       "    .dataframe tbody tr th {\n",
       "        vertical-align: top;\n",
       "    }\n",
       "\n",
       "    .dataframe thead th {\n",
       "        text-align: right;\n",
       "    }\n",
       "</style>\n",
       "<table border=\"1\" class=\"dataframe\">\n",
       "  <thead>\n",
       "    <tr style=\"text-align: right;\">\n",
       "      <th></th>\n",
       "      <th>Commodity</th>\n",
       "      <th>Decade</th>\n",
       "      <th>Adjusted Import Value</th>\n",
       "    </tr>\n",
       "  </thead>\n",
       "  <tbody>\n",
       "    <tr>\n",
       "      <th>0</th>\n",
       "      <td>Aircraft, Spacecraft, And Parts Thereof</td>\n",
       "      <td>1990s</td>\n",
       "      <td>4.318227e+10</td>\n",
       "    </tr>\n",
       "    <tr>\n",
       "      <th>1</th>\n",
       "      <td>Aircraft, Spacecraft, And Parts Thereof</td>\n",
       "      <td>2000s</td>\n",
       "      <td>2.419999e+11</td>\n",
       "    </tr>\n",
       "    <tr>\n",
       "      <th>2</th>\n",
       "      <td>Aircraft, Spacecraft, And Parts Thereof</td>\n",
       "      <td>2010s</td>\n",
       "      <td>2.732026e+11</td>\n",
       "    </tr>\n",
       "    <tr>\n",
       "      <th>3</th>\n",
       "      <td>Albuminoidal Subst; Modified Starch; Glue; Enz...</td>\n",
       "      <td>1990s</td>\n",
       "      <td>3.321868e+09</td>\n",
       "    </tr>\n",
       "    <tr>\n",
       "      <th>4</th>\n",
       "      <td>Albuminoidal Subst; Modified Starch; Glue; Enz...</td>\n",
       "      <td>2000s</td>\n",
       "      <td>1.979932e+10</td>\n",
       "    </tr>\n",
       "  </tbody>\n",
       "</table>\n",
       "</div>"
      ],
      "text/plain": [
       "                                           Commodity Decade  \\\n",
       "0            Aircraft, Spacecraft, And Parts Thereof  1990s   \n",
       "1            Aircraft, Spacecraft, And Parts Thereof  2000s   \n",
       "2            Aircraft, Spacecraft, And Parts Thereof  2010s   \n",
       "3  Albuminoidal Subst; Modified Starch; Glue; Enz...  1990s   \n",
       "4  Albuminoidal Subst; Modified Starch; Glue; Enz...  2000s   \n",
       "\n",
       "   Adjusted Import Value  \n",
       "0           4.318227e+10  \n",
       "1           2.419999e+11  \n",
       "2           2.732026e+11  \n",
       "3           3.321868e+09  \n",
       "4           1.979932e+10  "
      ]
     },
     "execution_count": 43,
     "metadata": {},
     "output_type": "execute_result"
    }
   ],
   "source": [
    "# Summing up trade values by decade and commodity\n",
    "exports_commodity_decade = exports_data.groupby(['Commodity','Decade'], as_index=False).agg({'Adjusted Export Value':[sum]})\n",
    "exports_commodity_decade.columns = exports_commodity_decade.columns.get_level_values(0)\n",
    "imports_commodity_decade = imports_data.groupby(['Commodity','Decade'], as_index=False).agg({'Adjusted Import Value':[sum]})\n",
    "imports_commodity_decade.columns = imports_commodity_decade.columns.get_level_values(0)\n",
    "imports_commodity_decade.head()\n"
   ]
  },
  {
   "cell_type": "code",
   "execution_count": 44,
   "metadata": {},
   "outputs": [
    {
     "data": {
      "text/html": [
       "<div>\n",
       "<style scoped>\n",
       "    .dataframe tbody tr th:only-of-type {\n",
       "        vertical-align: middle;\n",
       "    }\n",
       "\n",
       "    .dataframe tbody tr th {\n",
       "        vertical-align: top;\n",
       "    }\n",
       "\n",
       "    .dataframe thead th {\n",
       "        text-align: right;\n",
       "    }\n",
       "</style>\n",
       "<table border=\"1\" class=\"dataframe\">\n",
       "  <thead>\n",
       "    <tr style=\"text-align: right;\">\n",
       "      <th></th>\n",
       "      <th>Commodity</th>\n",
       "      <th>Decade</th>\n",
       "      <th>Adjusted Import Value</th>\n",
       "      <th>Rank</th>\n",
       "    </tr>\n",
       "  </thead>\n",
       "  <tbody>\n",
       "    <tr>\n",
       "      <th>171</th>\n",
       "      <td>Nuclear Reactors, Boilers, Machinery Etc.; Parts</td>\n",
       "      <td>1990s</td>\n",
       "      <td>4.869128e+11</td>\n",
       "      <td>1.0</td>\n",
       "    </tr>\n",
       "    <tr>\n",
       "      <th>72</th>\n",
       "      <td>Electric Machinery Etc; Sound Equip; Tv Equip;...</td>\n",
       "      <td>1990s</td>\n",
       "      <td>4.156515e+11</td>\n",
       "      <td>2.0</td>\n",
       "    </tr>\n",
       "    <tr>\n",
       "      <th>273</th>\n",
       "      <td>Vehicles, Except Railway Or Tramway, And Parts...</td>\n",
       "      <td>1990s</td>\n",
       "      <td>4.110915e+11</td>\n",
       "      <td>3.0</td>\n",
       "    </tr>\n",
       "    <tr>\n",
       "      <th>147</th>\n",
       "      <td>Mineral Fuel, Oil Etc.; Bitumin Subst; Mineral...</td>\n",
       "      <td>1990s</td>\n",
       "      <td>2.029153e+11</td>\n",
       "      <td>4.0</td>\n",
       "    </tr>\n",
       "    <tr>\n",
       "      <th>177</th>\n",
       "      <td>Optic, Photo Etc, Medic Or Surgical Instrments...</td>\n",
       "      <td>1990s</td>\n",
       "      <td>8.987164e+10</td>\n",
       "      <td>5.0</td>\n",
       "    </tr>\n",
       "  </tbody>\n",
       "</table>\n",
       "</div>"
      ],
      "text/plain": [
       "                                             Commodity Decade  \\\n",
       "171   Nuclear Reactors, Boilers, Machinery Etc.; Parts  1990s   \n",
       "72   Electric Machinery Etc; Sound Equip; Tv Equip;...  1990s   \n",
       "273  Vehicles, Except Railway Or Tramway, And Parts...  1990s   \n",
       "147  Mineral Fuel, Oil Etc.; Bitumin Subst; Mineral...  1990s   \n",
       "177  Optic, Photo Etc, Medic Or Surgical Instrments...  1990s   \n",
       "\n",
       "     Adjusted Import Value  Rank  \n",
       "171           4.869128e+11   1.0  \n",
       "72            4.156515e+11   2.0  \n",
       "273           4.110915e+11   3.0  \n",
       "147           2.029153e+11   4.0  \n",
       "177           8.987164e+10   5.0  "
      ]
     },
     "execution_count": 44,
     "metadata": {},
     "output_type": "execute_result"
    }
   ],
   "source": [
    "# Ranking the commodities of each decade by the dollar value imported or exported\n",
    "exports_commodity_decade['Rank'] = exports_commodity_decade.groupby('Decade')['Adjusted Export Value'].rank(ascending = False)\n",
    "exports_commodity_decade = exports_commodity_decade.sort_values(by = ['Decade', 'Rank'])\n",
    "imports_commodity_decade['Rank'] = imports_commodity_decade.groupby('Decade')['Adjusted Import Value'].rank(ascending = False)\n",
    "imports_commodity_decade = imports_commodity_decade.sort_values(by = ['Decade', 'Rank'])\n",
    "imports_commodity_decade.head()"
   ]
  },
  {
   "cell_type": "code",
   "execution_count": 45,
   "metadata": {},
   "outputs": [],
   "source": [
    "# Narrowing to just the top ten commodities\n",
    "exports_commodity_decade = exports_commodity_decade.loc[exports_commodity_decade['Rank'] <= 10]\n",
    "imports_commodity_decade = imports_commodity_decade.loc[imports_commodity_decade['Rank'] <= 10]\n",
    "\n",
    "#Converting the units to billions\n",
    "exports_commodity_decade['Adjusted Export Value'] = exports_commodity_decade['Adjusted Export Value']/1000000000\n",
    "imports_commodity_decade['Adjusted Import Value'] = imports_commodity_decade['Adjusted Import Value']/1000000000"
   ]
  },
  {
   "cell_type": "markdown",
   "metadata": {},
   "source": [
    "#### Plot 2 : Top 10 Commodities Imported by Decade"
   ]
  },
  {
   "cell_type": "code",
   "execution_count": 59,
   "metadata": {},
   "outputs": [
    {
     "data": {
      "image/png": "[encoded data removed]",
      "text/plain": [
       "<Figure size 1440x2880 with 3 Axes>"
      ]
     },
     "metadata": {
      "needs_background": "light"
     },
     "output_type": "display_data"
    }
   ],
   "source": [
    "fig, ax = plt.subplots(3, figsize = (20, 40))\n",
    "chart2 = sns.barplot( y = 'Commodity' , x = 'Adjusted Import Value', data = imports_commodity_decade.loc[imports_commodity_decade['Decade']=='1990s'], ax = ax[0]);\n",
    "chart2.set_title('Top 10 Imported Commodities of the 90s (98-99)')\n",
    "chart2.set_xlabel('Imported Value $ (Billions)');\n",
    "\n",
    "chart3 = sns.barplot( y = 'Commodity' , x= 'Adjusted Import Value', data = imports_commodity_decade.loc[imports_commodity_decade['Decade']=='2000s'], ax = ax[1]);\n",
    "chart3.set_title('Top 10 Imported Commodities of the 2000s')\n",
    "chart3.set_xlabel('Imported Value $ (Billions)');\n",
    "\n",
    "chart6 = sns.barplot( y = 'Commodity' , x= 'Adjusted Import Value', data = imports_commodity_decade.loc[imports_commodity_decade['Decade']=='2010s'], ax = ax[2]);\n",
    "chart6.set_title('Top 10 Imported Commodities of the 2010s (2010 - 2018)')\n",
    "chart6.set_xlabel('Imported Value $ (Billions)');"
   ]
  },
  {
   "cell_type": "markdown",
   "metadata": {},
   "source": [
    "#### Plot 3 : Top 10 Commodities Exported by Decade"
   ]
  },
  {
   "cell_type": "code",
   "execution_count": 71,
   "metadata": {},
   "outputs": [
    {
     "data": {
      "image/png": "[encoded data removed]",
      "text/plain": [
       "<Figure size 1440x2880 with 3 Axes>"
      ]
     },
     "metadata": {
      "needs_background": "light"
     },
     "output_type": "display_data"
    }
   ],
   "source": [
    "fig, ax = plt.subplots(3, figsize = (20, 40))\n",
    "\n",
    "\n",
    "chart4 = sns.barplot( y = 'Commodity' , x = 'Adjusted Export Value', data = exports_commodity_decade.loc[exports_commodity_decade['Decade']=='1990s'], ax = ax[0]);\n",
    "chart4.set_title('Top 10 Exported Commodities of the 90s (98-99)')\n",
    "chart4.set_xlabel('Exported Value $ (Billions)');\n",
    "\n",
    "\n",
    "chart5 = sns.barplot( y = 'Commodity' , x= 'Adjusted Export Value', data = exports_commodity_decade.loc[exports_commodity_decade['Decade']=='2000s'], ax = ax[1]);\n",
    "chart5.set_title('Top 10 Exported Commodities of the 2000s')\n",
    "chart5.set_xlabel('Exported Value $ (Billions)');\n",
    "\n",
    "chart7 = sns.barplot( y = 'Commodity' , x= 'Adjusted Export Value', data = exports_commodity_decade.loc[exports_commodity_decade['Decade']=='2010s'], ax = ax[2]);\n",
    "chart7.set_title('Top 10 Exported Commodities of the 2010s (2010-2018)')\n",
    "chart7.set_xlabel('Exported Value $ (Billions)');\n"
   ]
  },
  {
   "cell_type": "markdown",
   "metadata": {},
   "source": [
    "#### Insights :-\n",
    "##### 1. Mineral Fuel and Oil exports have seen a substantial rise (add number)"
   ]
  }
 ],
 "metadata": {
  "kernelspec": {
   "display_name": "Python 3",
   "language": "python",
   "name": "python3"
  }
 },
 "nbformat": 4,
 "nbformat_minor": 2
}
